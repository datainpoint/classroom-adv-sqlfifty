{
 "cells": [
  {
   "cell_type": "markdown",
   "id": "lightweight-fruit",
   "metadata": {
    "slideshow": {
     "slide_type": "slide"
    }
   },
   "source": [
    "# 進階的 SQL 五十道練習\n",
    "\n",
    "> 起步走\n",
    "\n",
    "[數聚點](https://www.datainpoint.com) | 郭耀仁 <yaojenkuo@datainpoint.com>"
   ]
  },
  {
   "cell_type": "markdown",
   "id": "bf08e4f5",
   "metadata": {
    "slideshow": {
     "slide_type": "slide"
    }
   },
   "source": [
    "## SQL 重要觀念複習"
   ]
  },
  {
   "cell_type": "markdown",
   "id": "2e2320d0",
   "metadata": {
    "slideshow": {
     "slide_type": "subslide"
    }
   },
   "source": [
    "## SQL、關聯式資料庫與關聯式資料庫管理系統\n",
    "\n",
    "- 什麼是 SQL\n",
    "- 什麼是關聯式資料庫\n",
    "- 什麼是關聯式資料庫管理系統"
   ]
  },
  {
   "cell_type": "markdown",
   "id": "3487a4ff",
   "metadata": {
    "slideshow": {
     "slide_type": "subslide"
    }
   },
   "source": [
    "## 什麼是 SQL\n",
    "\n",
    "- SQL 是 Structured Query Language 的縮寫，是一個專門針對關聯式資料庫中所儲存的資料進行互動（包含查詢、定義、操作與控制）的語言。\n",
    "- SQL 在 1970 年代由國際商業機器公司（IBM）創造，剛開發出來時候僅只是為了更有效率地「查詢」儲存於關聯式資料庫中的資料，但是到了現代，除了查詢以外像是資料的建立、更新與刪除，也都能靠著 SQL 來完成。"
   ]
  },
  {
   "cell_type": "markdown",
   "id": "2285e11f",
   "metadata": {
    "slideshow": {
     "slide_type": "subslide"
    }
   },
   "source": [
    "## SQL 的組成與分類\n",
    "\n",
    "- 具體來說，SQL 是由保留字（Keyword）、符號、常數與函數所組合而成的一種語言。\n",
    "- 依照使用目的進而區別 SQL 的分類：\n",
    "\n",
    "|SQL 的分類|範例|\n",
    "|:---------|:----|\n",
    "|資料查詢語言（Data Query Language, DQL）|`SELECT ...`|\n",
    "|資料定義語言（Data Definition Language, DDL）|`CREATE ...`|\n",
    "|資料操作語言（Data Manipulation Language, DML）|`UPDATE ...`|\n",
    "|資料控制語言（Data Control Language, DCL）|`GRANT ...`|\n",
    "|交易控制語言（Transaction Control Language, TCL）|`COMMIT ...`|"
   ]
  },
  {
   "cell_type": "markdown",
   "id": "06f6f0ee",
   "metadata": {
    "slideshow": {
     "slide_type": "subslide"
    }
   },
   "source": [
    "## 什麼是關聯式資料庫\n",
    "\n",
    "- 我們拆成「關聯式」與「資料庫」分別定義：\n",
    "    - 資料庫是一種特定、經過加工的資料集合，能夠放置在伺服器、個人電腦、手機或者微型電腦之中。\n",
    "    - 關聯式則是描述資料庫中的資料集合是以列（Rows）與欄（Columns）所組成的二維表格形式記錄，並且遵守關聯式模型準則設計，這樣的資料庫就被稱為關聯式資料庫。有時列也有其他別名，像是紀錄（Records）、觀測值（Observations）、元組（Tuples）等；欄的其他別名則有欄位（Fields）、變數（Variables）、屬性（Attributes）等。"
   ]
  },
  {
   "cell_type": "markdown",
   "id": "e7e3a765",
   "metadata": {
    "slideshow": {
     "slide_type": "subslide"
    }
   },
   "source": [
    "## 什麼是關聯式資料庫（續）\n",
    "\n",
    "![](https://upload.wikimedia.org/wikipedia/commons/thumb/7/7c/Relational_database_terms.svg/512px-Relational_database_terms.svg.png)\n",
    "\n",
    "來源：<https://en.wikipedia.org/wiki/Relational_database>"
   ]
  },
  {
   "cell_type": "markdown",
   "id": "87aa5a93",
   "metadata": {
    "slideshow": {
     "slide_type": "subslide"
    }
   },
   "source": [
    "## 能夠被稱為是資料庫的資料集合必須要同時具備兩個特徵\n",
    "\n",
    "1. 觀測值必須具備屬性。\n",
    "2. 資料集合必須具備元資料（Metadata）。"
   ]
  },
  {
   "cell_type": "markdown",
   "id": "4f161315",
   "metadata": {
    "slideshow": {
     "slide_type": "subslide"
    }
   },
   "source": [
    "## 什麼是關聯式資料庫管理系統\n",
    "\n",
    "- 管理關聯式資料庫的電腦軟體稱為關聯式資料庫管理系統（Relational Database Management System, RDBMS）。\n",
    "- 透過關聯式資料庫管理系統，可以讓關聯式資料庫具有多人共用、處理大量資料、自動化讀寫與備份等功能。"
   ]
  },
  {
   "cell_type": "markdown",
   "id": "bc75eb13",
   "metadata": {
    "slideshow": {
     "slide_type": "subslide"
    }
   },
   "source": [
    "## 常見的關聯式資料庫管理系統大致可以分為商業授權與開放原始碼兩個大類\n",
    "\n",
    "- 商業授權\n",
    "    - DB2：國際商業機器公司的關聯式資料庫管理系統。\n",
    "    - SQL Server：微軟公司的關聯式資料庫管理系統。\n",
    "    - Oracle Database：甲骨文公司的關聯式資料庫管理系統。\n",
    "- 開放原始碼\n",
    "    - MySQL：開放原始碼的關聯式資料庫管理系統，現為甲骨文公司所有。\n",
    "    - MariaDB：開放原始碼的關聯式資料庫管理系統，是 MySQL 的分支。\n",
    "    - SQLite：開放原始碼的關聯式資料庫管理系統。"
   ]
  },
  {
   "cell_type": "markdown",
   "id": "cad84363",
   "metadata": {
    "slideshow": {
     "slide_type": "subslide"
    }
   },
   "source": [
    "## SQL、關聯式資料庫與關聯式資料庫管理系統三者的關係\n",
    "\n",
    "|SQL|關聯式資料庫|關聯式資料庫管理系統|\n",
    "|:--|:---------|:----------------|\n",
    "|駕駛車的技術、執照|車|道路、車庫、交通號誌、路線管理|\n",
    "|駕駛船的技術、執照|船|水域、船塢、港口、航線管理|\n",
    "|駕駛飛機的技術、執照|飛機|空域、機場、停機坪、跑道、塔台、航線管理|"
   ]
  },
  {
   "cell_type": "markdown",
   "id": "sporting-davis",
   "metadata": {
    "slideshow": {
     "slide_type": "subslide"
    }
   },
   "source": [
    "## 本課程使用 MySQL 開放原始碼關聯式資料庫管理系統\n",
    "\n",
    "- 容易上手的 SQLite 由於其輕量、無伺服器架構的特性，沒有使用者、登入的設計，沒有辦法進行資料控制語言（Data Control Language, DCL）的示範。\n",
    "- 標準 SQL 能順利在常見的關聯式資料庫管理系統運行。\n",
    "- 以駕駛車的技術為例，自用小客車的駕照能夠廣泛應用在轎車、休旅車或廂型車的駕駛。"
   ]
  },
  {
   "cell_type": "markdown",
   "id": "17b4a8d2",
   "metadata": {
    "slideshow": {
     "slide_type": "slide"
    }
   },
   "source": [
    "## 建立學習環境"
   ]
  },
  {
   "cell_type": "markdown",
   "id": "8e0ac021",
   "metadata": {
    "slideshow": {
     "slide_type": "subslide"
    }
   },
   "source": [
    "## 如何在本機建立 MySQL 的學習環境\n",
    "\n",
    "- Windows 作業系統\n",
    "    - 下載與安裝 MySQL Server\n",
    "    - 下載與安裝 DBeaver\n",
    "- macOS\n",
    "    - 下載與安裝 MySQL Server\n",
    "    - 下載與安裝 DBeaver"
   ]
  },
  {
   "cell_type": "markdown",
   "id": "e57d895e",
   "metadata": {
    "slideshow": {
     "slide_type": "subslide"
    }
   },
   "source": [
    "## MySQL Server 與 DBeaver 的差異為何\n",
    "\n",
    "- MySQL Server 是關聯式資料庫管理系統，是**必須**的安裝選項，安裝完成之後，可以透過 DBeaver、MySQL Workbench、MySQL CLI、phpMyAdmin 等連線工具使用。\n",
    "- DBeaver 是 MySQL Server 的連線工具之一，是**非必須**的安裝選項，但透過它的圖形使用者介面來執行 SQL 指令進行資料查詢、定義、操作或者控制能帶給使用者與管理員更輕鬆、更友善的體驗。"
   ]
  },
  {
   "cell_type": "markdown",
   "id": "ffdd4b5d",
   "metadata": {
    "slideshow": {
     "slide_type": "subslide"
    }
   },
   "source": [
    "## 選擇 DBeaver 而非 MySQL Workbench 作為連線工具的原因\n",
    "\n",
    "- MySQL Workbench 的 Table Import Wizard 有存在已久卻沒有修正的錯誤。\n",
    "- DBeaver 是跨資料庫管理系統的連線工具，能夠支援相當多的主流 RDBMS 與 NoSQL DBMS。"
   ]
  },
  {
   "cell_type": "markdown",
   "id": "7d9afcac",
   "metadata": {
    "slideshow": {
     "slide_type": "subslide"
    }
   },
   "source": [
    "## Windows 作業系統\n",
    "\n",
    "- 本課程使用 MySQL Server 的安裝版本為 8.0.31\n",
    "- 本課程使用 DBeaver 的安裝版本為 23.0.2\n",
    "- Windows 作業系統下載副檔名為 .msi 或 .exe 的安裝檔：\n",
    "    - [MySQL Installer](https://classroom-hahow-adv-sqlfifty.s3.ap-northeast-1.amazonaws.com/mysql-installer-web-community-8.0.31.0.msi)\n",
    "    - [DBeaver](https://classroom-hahow-adv-sqlfifty.s3.ap-northeast-1.amazonaws.com/dbeaver-ce-23.0.2-x86_64-setup.exe)"
   ]
  },
  {
   "cell_type": "markdown",
   "id": "a974115b",
   "metadata": {
    "slideshow": {
     "slide_type": "subslide"
    }
   },
   "source": [
    "## Windows 作業系統安裝注意事項\n",
    "\n",
    "- MySQL Installer 要安裝 MySQL Server\n",
    "- 記住 root 帳號密碼。\n",
    "- 不要把電腦登入密碼與 root 帳號密碼搞混。"
   ]
  },
  {
   "cell_type": "markdown",
   "id": "7923ba76",
   "metadata": {
    "slideshow": {
     "slide_type": "subslide"
    }
   },
   "source": [
    "## 透過 DBeaver 建立與本機 MySQL Server 的連線\n",
    "\n",
    "- 連線之前先確認 MySQL Server 已經啟動。\n",
    "- Connection Name: localhost\n",
    "- Hostname: 127.0.0.1\n",
    "- Port: 3306\n",
    "- Username: root"
   ]
  },
  {
   "cell_type": "markdown",
   "id": "658d8c64",
   "metadata": {
    "slideshow": {
     "slide_type": "subslide"
    }
   },
   "source": [
    "## macOS\n",
    "\n",
    "- 本課程使用 MySQL Server 的安裝版本為 8.0.31\n",
    "- 本課程使用 DBeaver 的安裝版本為 23.0.2\n",
    "- macOS 下載副檔名為 .dmg 的安裝檔：\n",
    "    - [MySQL Server](https://classroom-hahow-adv-sqlfifty.s3.ap-northeast-1.amazonaws.com/mysql-8.0.31-macos12-x86_64.dmg)\n",
    "    - [DBeaver](https://classroom-hahow-adv-sqlfifty.s3.ap-northeast-1.amazonaws.com/dbeaver-ce-23.0.2-macos-x86_64.dmg)"
   ]
  },
  {
   "cell_type": "markdown",
   "id": "7a8c2236",
   "metadata": {
    "slideshow": {
     "slide_type": "subslide"
    }
   },
   "source": [
    "## macOS 安裝注意事項\n",
    "\n",
    "- 記住 root 帳號密碼。\n",
    "- 不要把電腦登入密碼與 root 帳號密碼搞混。"
   ]
  },
  {
   "cell_type": "markdown",
   "id": "80b55231",
   "metadata": {
    "slideshow": {
     "slide_type": "subslide"
    }
   },
   "source": [
    "## 透過 DBeaver 建立與本機 MySQL Server 的連線\n",
    "\n",
    "- 連線之前先確認 MySQL Server 已經啟動。\n",
    "- Connection Name: localhost\n",
    "- Hostname: 127.0.0.1\n",
    "- Port: 3306\n",
    "- Username: root"
   ]
  },
  {
   "cell_type": "markdown",
   "id": "07b71738",
   "metadata": {
    "slideshow": {
     "slide_type": "subslide"
    }
   },
   "source": [
    "## 檢視資料庫\n",
    "\n",
    "```sql\n",
    "SHOW DATABASES;\n",
    "```"
   ]
  },
  {
   "cell_type": "markdown",
   "id": "b38c2d83",
   "metadata": {
    "slideshow": {
     "slide_type": "subslide"
    }
   },
   "source": [
    "## 下載範例資料\n",
    "\n",
    "- [actors.csv](https://classroom-hahow-adv-sqlfifty.s3.ap-northeast-1.amazonaws.com/actors.csv)\n",
    "- [casting.csv](https://classroom-hahow-adv-sqlfifty.s3.ap-northeast-1.amazonaws.com/casting.csv)\n",
    "- [directors.csv](https://classroom-hahow-adv-sqlfifty.s3.ap-northeast-1.amazonaws.com/directors.csv)\n",
    "- [movies.csv](https://classroom-hahow-adv-sqlfifty.s3.ap-northeast-1.amazonaws.com/movies.csv)\n",
    "\n",
    "來源：<https://www.imdb.com/chart/top>"
   ]
  },
  {
   "cell_type": "markdown",
   "id": "886c6d20",
   "metadata": {
    "slideshow": {
     "slide_type": "subslide"
    }
   },
   "source": [
    "## 建立資料庫 `imdb`\n",
    "\n",
    "```sql\n",
    "CREATE DATABASE imdb CHARACTER SET utf8mb4 COLLATE utf8mb4_unicode_ci;\n",
    "```"
   ]
  },
  {
   "cell_type": "markdown",
   "id": "b6c4b49f",
   "metadata": {
    "slideshow": {
     "slide_type": "subslide"
    }
   },
   "source": [
    "## 匯入資料表\n",
    "\n",
    "- 在 `imdb` 資料庫按右鍵點選 Import Data\n",
    "- 調整文字資料類型為 `TEXT`"
   ]
  },
  {
   "cell_type": "markdown",
   "id": "02153903",
   "metadata": {
    "slideshow": {
     "slide_type": "subslide"
    }
   },
   "source": [
    "## 哈囉世界\n",
    "\n",
    "- 哈囉世界是指在電腦螢幕顯示「Hello, World!」（你好，世界！）字串的電腦程式，通常用來確認一個程式語言的開發環境及運行環境是否已經安裝妥當。\n",
    "- 學習 SQL 也不例外，不過若光是顯示「Hello, World!」還不足以確認是否有順利完成學習環境，因此改為查詢資料表的「前五列、所有欄」。"
   ]
  },
  {
   "cell_type": "markdown",
   "id": "3d834df7",
   "metadata": {
    "slideshow": {
     "slide_type": "subslide"
    }
   },
   "source": [
    "## `actors`\n",
    "\n",
    "```sql\n",
    "SELECT *\n",
    "  FROM actors\n",
    " LIMIT 5;\n",
    "```"
   ]
  },
  {
   "cell_type": "markdown",
   "id": "c621f6ff",
   "metadata": {
    "slideshow": {
     "slide_type": "subslide"
    }
   },
   "source": [
    "## `casting`\n",
    "\n",
    "```sql\n",
    "SELECT *\n",
    "  FROM casting\n",
    " LIMIT 5;\n",
    "```"
   ]
  },
  {
   "cell_type": "markdown",
   "id": "6606c14b",
   "metadata": {
    "slideshow": {
     "slide_type": "subslide"
    }
   },
   "source": [
    "## `directors`\n",
    "\n",
    "```sql\n",
    "SELECT *\n",
    "  FROM directors\n",
    " LIMIT 5;\n",
    "```"
   ]
  },
  {
   "cell_type": "markdown",
   "id": "91858ef5",
   "metadata": {
    "slideshow": {
     "slide_type": "subslide"
    }
   },
   "source": [
    "## `movies`\n",
    "\n",
    "```sql\n",
    "SELECT *\n",
    "  FROM movies\n",
    " LIMIT 5;\n",
    "```"
   ]
  },
  {
   "cell_type": "markdown",
   "id": "8fbb67dc",
   "metadata": {
    "slideshow": {
     "slide_type": "slide"
    }
   },
   "source": [
    "## 快速複習資料查詢語言"
   ]
  },
  {
   "cell_type": "markdown",
   "id": "985b7e98",
   "metadata": {
    "slideshow": {
     "slide_type": "subslide"
    }
   },
   "source": [
    "## SQL 敘述的組成\n",
    "\n",
    "- 保留字：具有特定功能的指令。\n",
    "- 符號：具有特定功能的符號。\n",
    "- 常數：由使用者給予的資料。\n",
    "- 函數：具有特定邏輯的輸入與輸出對應。"
   ]
  },
  {
   "cell_type": "markdown",
   "id": "4d328e1b",
   "metadata": {
    "slideshow": {
     "slide_type": "subslide"
    }
   },
   "source": [
    "## SQL 保留字的寫作順序\n",
    "\n",
    "```sql\n",
    "SELECT DISTINCT columns AS alias,\n",
    "       CASE WHEN condition_1 THEN result_1\n",
    "            WHEN condition_2 THEN result_2\n",
    "            ...\n",
    "            ELSE result_n END AS alias\n",
    "  FROM left_table\n",
    "  JOIN | LEFT JOIN right_table\n",
    "    ON left_table.join_key = right_table.join_key\n",
    " WHERE conditions\n",
    " GROUP BY columns\n",
    "HAVING conditions\n",
    " UNION | UNION ALL\n",
    " ORDER BY columns DESC\n",
    " LIMIT m\n",
    "OFFSET m;\n",
    "```"
   ]
  },
  {
   "cell_type": "markdown",
   "id": "0246d31f",
   "metadata": {
    "slideshow": {
     "slide_type": "subslide"
    }
   },
   "source": [
    "## `SELECT` 與 `FROM`\n",
    "\n",
    "```sql\n",
    "SELECT title,\n",
    "\t   rating,\n",
    "       release_year,\n",
    "       director_id\n",
    "  FROM movies;\n",
    "```"
   ]
  },
  {
   "cell_type": "markdown",
   "id": "10c89528",
   "metadata": {
    "slideshow": {
     "slide_type": "subslide"
    }
   },
   "source": [
    "## `ORDER BY`\n",
    "\n",
    "```sql\n",
    "SELECT title,\n",
    "       rating,\n",
    "       release_year,\n",
    "       runtime,\n",
    "       director_id\n",
    "  FROM movies\n",
    " ORDER BY runtime DESC;\n",
    "```"
   ]
  },
  {
   "cell_type": "markdown",
   "id": "4ffb402a",
   "metadata": {
    "slideshow": {
     "slide_type": "subslide"
    }
   },
   "source": [
    "## `LIMIT` 與 `OFFSET`\n",
    "\n",
    "```sql\n",
    "SELECT title,\n",
    "       rating,\n",
    "       release_year,\n",
    "       runtime,\n",
    "       director_id\n",
    "  FROM movies\n",
    " ORDER BY runtime DESC\n",
    " LIMIT 3\n",
    "OFFSET 1;\n",
    "```"
   ]
  },
  {
   "cell_type": "markdown",
   "id": "59e509d6",
   "metadata": {
    "slideshow": {
     "slide_type": "subslide"
    }
   },
   "source": [
    "## `WHERE`\n",
    "\n",
    "```sql\n",
    "SELECT title,\n",
    "\t   rating,\n",
    "       release_year,\n",
    "       director_id\n",
    "  FROM movies\n",
    " WHERE title LIKE '%Top Gun%';\n",
    "```"
   ]
  },
  {
   "cell_type": "markdown",
   "id": "6895de72",
   "metadata": {
    "slideshow": {
     "slide_type": "subslide"
    }
   },
   "source": [
    "## `GROUP BY`\n",
    "\n",
    "```sql\n",
    "SELECT release_year,\n",
    "       COUNT(*) AS number_of_movies\n",
    "  FROM movies\n",
    " GROUP BY release_year;\n",
    "```"
   ]
  },
  {
   "cell_type": "markdown",
   "id": "2ed1f4be",
   "metadata": {
    "slideshow": {
     "slide_type": "subslide"
    }
   },
   "source": [
    "## `HAVING`\n",
    "\n",
    "```sql\n",
    "SELECT release_year,\n",
    "       COUNT(*) AS number_of_movies\n",
    "  FROM movies\n",
    " GROUP BY release_year\n",
    "HAVING number_of_movies >= 5;\n",
    "```"
   ]
  },
  {
   "cell_type": "markdown",
   "id": "3ef44e06",
   "metadata": {
    "slideshow": {
     "slide_type": "subslide"
    }
   },
   "source": [
    "## `CASE WHEN`\n",
    "\n",
    "```sql\n",
    "SELECT CASE WHEN release_year >= 2000 THEN 'After millennium'\n",
    "            ELSE 'Before millennium' END AS millennium_flag,\n",
    "       COUNT(*) AS number_of_movies\n",
    "  FROM movies\n",
    " GROUP BY millennium_flag;\n",
    "```"
   ]
  },
  {
   "cell_type": "markdown",
   "id": "681bf7e0",
   "metadata": {
    "slideshow": {
     "slide_type": "subslide"
    }
   },
   "source": [
    "## 子查詢（Subquery）\n",
    "\n",
    "```sql\n",
    "SELECT name\n",
    "  FROM directors\n",
    " WHERE id = (\n",
    "                SELECT director_id\n",
    "                  FROM movies\n",
    "                 WHERE runtime = (\n",
    "                                     SELECT MIN(runtime) \n",
    "                                       FROM movies\n",
    "                                 )\n",
    "            );\n",
    "```"
   ]
  },
  {
   "cell_type": "markdown",
   "id": "2d935190",
   "metadata": {
    "slideshow": {
     "slide_type": "subslide"
    }
   },
   "source": [
    "## UNION\n",
    "\n",
    "```sql\n",
    "SELECT name\n",
    "  FROM directors\n",
    " WHERE name IN ('Steven Spielberg', 'Christopher Nolan')\n",
    " UNION\n",
    "SELECT name\n",
    "  FROM actors\n",
    " WHERE name IN ('Tom Hanks', 'Tom Cruise');\n",
    "```"
   ]
  },
  {
   "cell_type": "markdown",
   "id": "5d8bbfb5",
   "metadata": {
    "slideshow": {
     "slide_type": "subslide"
    }
   },
   "source": [
    "## JOIN\n",
    "\n",
    "```sql\n",
    "SELECT movies.title,\n",
    "       casting.ord,\n",
    "       actors.name AS lead_actor,\n",
    "       directors.name AS director\n",
    "  FROM movies\n",
    "  JOIN casting\n",
    "    ON movies.id = casting.movie_id\n",
    "  JOIN actors\n",
    "    ON casting.actor_id = actors.id\n",
    "  JOIN directors\n",
    "    ON movies.director_id = directors.id\n",
    " WHERE movies.title LIKE '%Top Gun%' AND\n",
    "       casting.ord <= 4\n",
    " ORDER BY casting.ord;\n",
    "```"
   ]
  }
 ],
 "metadata": {
  "celltoolbar": "Slideshow",
  "kernelspec": {
   "display_name": "xsql",
   "language": "sqlite",
   "name": "xsql"
  },
  "language_info": {
   "codemirror_mode": "sql",
   "file_extension": "",
   "mimetype": "",
   "name": "mysql",
   "version": "0.1.5"
  }
 },
 "nbformat": 4,
 "nbformat_minor": 5
}
