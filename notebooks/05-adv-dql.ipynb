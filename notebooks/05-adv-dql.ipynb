{
 "cells": [
  {
   "cell_type": "markdown",
   "id": "lightweight-fruit",
   "metadata": {
    "slideshow": {
     "slide_type": "slide"
    }
   },
   "source": [
    "# 進階的 SQL 五十道練習\n",
    "\n",
    "> 資料查詢進階技巧\n",
    "\n",
    "[數聚點](https://www.datainpoint.com) | 郭耀仁 <yaojenkuo@datainpoint.com>"
   ]
  },
  {
   "cell_type": "markdown",
   "id": "87b410ed",
   "metadata": {
    "slideshow": {
     "slide_type": "subslide"
    }
   },
   "source": [
    "## 資料查詢進階技巧\n",
    "\n",
    "- 日期時間函數。\n",
    "- 集合運算。\n",
    "- 通用資料表運算式（CTE, Common Table Expression)。\n",
    "- 交叉連接（Cross-join）與自連接（Self-join）。\n",
    "- 視窗函數（Window functions）。"
   ]
  },
  {
   "cell_type": "markdown",
   "id": "847d3c15",
   "metadata": {
    "slideshow": {
     "slide_type": "subslide"
    }
   },
   "source": [
    "## （複習）SQL 的組成與分類\n",
    "\n",
    "- 具體來說，SQL 是由保留字（Keyword）、符號、常數與函數所組合而成的一種語言。\n",
    "- 依照使用目的進而區別 SQL 的分類：\n",
    "\n",
    "|SQL 的分類|範例|\n",
    "|:---------|:----|\n",
    "|資料查詢語言（Data Query Language, DQL）|`SELECT ...`|\n",
    "|資料定義語言（Data Definition Language, DDL）|`CREATE ...`|\n",
    "|資料操作語言（Data Manipulation Language, DML）|`UPDATE ...`|\n",
    "|資料控制語言（Data Control Language, DCL）|`GRANT ...`|\n",
    "|交易控制語言（Transaction Control Language, TCL）|`COMMIT ...`|"
   ]
  },
  {
   "cell_type": "markdown",
   "id": "5c6a8f01",
   "metadata": {
    "slideshow": {
     "slide_type": "subslide"
    }
   },
   "source": [
    "## 下載範例資料\n",
    "\n",
    "- [lookup_table.csv](https://classroom-hahow-adv-sqlfifty.s3.ap-northeast-1.amazonaws.com/lookup_table.csv)\n",
    "- [time_series.csv](https://classroom-hahow-adv-sqlfifty.s3.ap-northeast-1.amazonaws.com/time_series.csv)\n",
    "\n",
    "來源：<https://github.com/CSSEGISandData/COVID-19>"
   ]
  },
  {
   "cell_type": "markdown",
   "id": "247f8758",
   "metadata": {
    "slideshow": {
     "slide_type": "subslide"
    }
   },
   "source": [
    "## 建立資料庫 `covid19`\n",
    "\n",
    "```sql\n",
    "CREATE DATABASE covid19 CHARACTER SET utf8mb4 COLLATE utf8mb4_unicode_ci;\n",
    "```"
   ]
  },
  {
   "cell_type": "markdown",
   "id": "c96fbc14",
   "metadata": {
    "slideshow": {
     "slide_type": "subslide"
    }
   },
   "source": [
    "## 匯入資料表\n",
    "\n",
    "- 在 `covid19` 資料庫按右鍵點選 Import Data\n",
    "- 調整 `pop` 資料類型為 `BIGINT`"
   ]
  },
  {
   "cell_type": "markdown",
   "id": "9840105f",
   "metadata": {
    "slideshow": {
     "slide_type": "slide"
    }
   },
   "source": [
    "## 日期時間函數"
   ]
  },
  {
   "cell_type": "markdown",
   "id": "1131f339",
   "metadata": {
    "slideshow": {
     "slide_type": "subslide"
    }
   },
   "source": [
    "## 常用的 MySQL 日期時間函數\n",
    "\n",
    "- `CURRENT_DATE()`\n",
    "- `CURRENT_TIME()`\n",
    "- `CURRENT_TIMESTAMP()`"
   ]
  },
  {
   "cell_type": "markdown",
   "id": "d9ebfe7a",
   "metadata": {
    "slideshow": {
     "slide_type": "-"
    }
   },
   "source": [
    "```sql\n",
    "SELECT CURRENT_DATE() AS current_date,\n",
    "\t   CURRENT_TIME() AS current_time,\n",
    "\t   CURRENT_TIMESTAMP() AS current_timestamp;\n",
    "```"
   ]
  },
  {
   "cell_type": "markdown",
   "id": "e71cd940",
   "metadata": {
    "slideshow": {
     "slide_type": "subslide"
    }
   },
   "source": [
    "## 常用的 MySQL 日期時間函數（續）\n",
    "\n",
    "- `ADDDATE()`\n",
    "- `SUBDATE()`\n",
    "- `ADDTIME()`\n",
    "- `SUBTIME()`"
   ]
  },
  {
   "cell_type": "markdown",
   "id": "e59bc590",
   "metadata": {
    "slideshow": {
     "slide_type": "-"
    }
   },
   "source": [
    "```sql\n",
    "SELECT ADDDATE(CURRENT_DATE(), 3) AS three_days_later,\n",
    "       SUBDATE(CURRENT_DATE(), 2) AS two_days_ago,\n",
    "\t   ADDTIME(CURRENT_TIMESTAMP(), '3:00:00') AS three_hours_later,\n",
    "       SUBTIME(CURRENT_TIMESTAMP(), '0:30:00') AS half_hour_ago;\n",
    "```"
   ]
  },
  {
   "cell_type": "markdown",
   "id": "80219300",
   "metadata": {
    "slideshow": {
     "slide_type": "subslide"
    }
   },
   "source": [
    "## 常用的 MySQL 日期時間函數（續）\n",
    "\n",
    "- `DATE_FORMAT()`\n",
    "- `DATEDIFF()`\n",
    "\n",
    "來源：<https://dev.mysql.com/doc/refman/8.0/en/date-and-time-functions.html#function_date-format>"
   ]
  },
  {
   "cell_type": "markdown",
   "id": "28eca83c",
   "metadata": {},
   "source": [
    "```sql\n",
    "SELECT CURRENT_DATE() AS current_date_in_iso8601,\n",
    "       DATE_FORMAT(CURRENT_DATE(), '%a %b %d') AS current_date_in_custom_format,\n",
    "       DATE_FORMAT(CURRENT_TIMESTAMP(), '%a %b %d %H:%i') AS current_date_in_custom_format,\n",
    "       DATEDIFF(CURRENT_DATE(), '2023-01-01') AS ytd_days;\n",
    "```"
   ]
  },
  {
   "cell_type": "markdown",
   "id": "6433df20",
   "metadata": {
    "slideshow": {
     "slide_type": "subslide"
    }
   },
   "source": [
    "## 更多 MySQL 日期時間函數\n",
    "\n",
    "來源：<https://dev.mysql.com/doc/refman/8.0/en/date-and-time-functions.html>"
   ]
  },
  {
   "cell_type": "markdown",
   "id": "3fa286b0",
   "metadata": {
    "slideshow": {
     "slide_type": "slide"
    }
   },
   "source": [
    "## 集合運算"
   ]
  },
  {
   "cell_type": "markdown",
   "id": "d12dced6",
   "metadata": {
    "slideshow": {
     "slide_type": "subslide"
    }
   },
   "source": [
    "## 什麼是集合運算\n",
    "\n",
    "垂直關聯多個 SQL 敘述時，在具有相同的欄數和資料類型的前提下，集合運算的保留字能夠將一個查詢的結果垂直合併至另一個查詢的結果，MySQL 支援的集合運算保留字有：\n",
    "\n",
    "- `UNION`/`UNION ALL`\n",
    "- `INTERSECT`\n",
    "- `EXCEPT`"
   ]
  },
  {
   "cell_type": "markdown",
   "id": "e7ea192a",
   "metadata": {
    "slideshow": {
     "slide_type": "subslide"
    }
   },
   "source": [
    "## （複習）使用 `UNION` 或 `UNION ALL` 垂直關聯兩段 SQL 敘述\n",
    "\n",
    "```sql\n",
    "a SELECT Statement ...\n",
    "UNION | UNION ALL\n",
    "another SELECT Statement ...;\n",
    "```"
   ]
  },
  {
   "cell_type": "markdown",
   "id": "39764365",
   "metadata": {
    "slideshow": {
     "slide_type": "subslide"
    }
   },
   "source": [
    "## `UNION` 聯集並且剔除重複值、排序"
   ]
  },
  {
   "cell_type": "markdown",
   "id": "354feec8",
   "metadata": {
    "slideshow": {
     "slide_type": "-"
    }
   },
   "source": [
    "```sql\n",
    "USE imdb;\n",
    "SELECT name\n",
    "  FROM directors\n",
    " WHERE name IN ('Steven Spielberg', 'Christopher Nolan', 'Aamir Khan')\n",
    " UNION\n",
    "SELECT name\n",
    "  FROM actors\n",
    " WHERE name IN ('Tom Hanks', 'Tom Cruise', 'Aamir Khan');\n",
    "```"
   ]
  },
  {
   "cell_type": "markdown",
   "id": "abcdf602",
   "metadata": {
    "slideshow": {
     "slide_type": "subslide"
    }
   },
   "source": [
    "## `UNION ALL` 聯集並且保留重複值、不予排序"
   ]
  },
  {
   "cell_type": "markdown",
   "id": "e2131de8",
   "metadata": {
    "slideshow": {
     "slide_type": "-"
    }
   },
   "source": [
    "```sql\n",
    "USE imdb;\n",
    "SELECT name\n",
    "  FROM directors\n",
    " WHERE name IN ('Steven Spielberg', 'Christopher Nolan', 'Aamir Khan')\n",
    " UNION ALL\n",
    "SELECT name\n",
    "  FROM actors\n",
    " WHERE name IN ('Tom Hanks', 'Tom Cruise', 'Aamir Khan');\n",
    "```"
   ]
  },
  {
   "cell_type": "markdown",
   "id": "0d84dbe9",
   "metadata": {
    "slideshow": {
     "slide_type": "subslide"
    }
   },
   "source": [
    "## 使用 `INTERSECT` 垂直關聯兩段 SQL 敘述並且保留「交集」的值\n",
    "\n",
    "```sql\n",
    "a SELECT Statement ...\n",
    "INTERSECT\n",
    "another SELECT Statement ...;\n",
    "```"
   ]
  },
  {
   "cell_type": "markdown",
   "id": "ebdfbc14",
   "metadata": {},
   "source": [
    "```sql\n",
    "SELECT name\n",
    "  FROM directors\n",
    " WHERE name IN ('Steven Spielberg', 'Christopher Nolan', 'Aamir Khan')\n",
    "INTERSECT\n",
    "SELECT name\n",
    "  FROM actors\n",
    " WHERE name IN ('Tom Hanks', 'Tom Cruise', 'Aamir Khan');\n",
    "```"
   ]
  },
  {
   "cell_type": "markdown",
   "id": "d0537840",
   "metadata": {
    "slideshow": {
     "slide_type": "subslide"
    }
   },
   "source": [
    "## 既是演員亦是導演的名單\n",
    "\n",
    "```sql\n",
    "SELECT name\n",
    "  FROM actors\n",
    "INTERSECT\n",
    "SELECT name\n",
    "  FROM directors;\n",
    "```"
   ]
  },
  {
   "cell_type": "markdown",
   "id": "56c6289a",
   "metadata": {
    "slideshow": {
     "slide_type": "subslide"
    }
   },
   "source": [
    "## 使用 `EXCEPT` 垂直關聯兩段 SQL 敘述並進行「差集」運算\n",
    "\n",
    "```sql\n",
    "a SELECT Statement ...\n",
    "EXCEPT\n",
    "another SELECT Statement ...;\n",
    "```"
   ]
  },
  {
   "cell_type": "markdown",
   "id": "82cb8332",
   "metadata": {
    "slideshow": {
     "slide_type": "subslide"
    }
   },
   "source": [
    "## `directors` 差集 `actors`\n",
    "\n",
    "```sql\n",
    "SELECT name\n",
    "  FROM directors\n",
    " WHERE name IN ('Steven Spielberg', 'Christopher Nolan', 'Aamir Khan')\n",
    "EXCEPT\n",
    "SELECT name\n",
    "  FROM actors\n",
    " WHERE name IN ('Tom Hanks', 'Tom Cruise', 'Aamir Khan');\n",
    "```"
   ]
  },
  {
   "cell_type": "markdown",
   "id": "0e832d82",
   "metadata": {
    "slideshow": {
     "slide_type": "subslide"
    }
   },
   "source": [
    "## `actors` 差集 `directors`\n",
    "\n",
    "```sql\n",
    "SELECT name\n",
    "  FROM actors\n",
    " WHERE name IN ('Tom Hanks', 'Tom Cruise', 'Aamir Khan')\n",
    "EXCEPT\n",
    "SELECT name\n",
    "  FROM directors\n",
    " WHERE name IN ('Steven Spielberg', 'Christopher Nolan', 'Aamir Khan');\n",
    "```"
   ]
  },
  {
   "cell_type": "markdown",
   "id": "488bba4f",
   "metadata": {
    "slideshow": {
     "slide_type": "slide"
    }
   },
   "source": [
    "## 通用資料表運算式"
   ]
  },
  {
   "cell_type": "markdown",
   "id": "8cd75e0c",
   "metadata": {
    "slideshow": {
     "slide_type": "subslide"
    }
   },
   "source": [
    "## 什麼是通用資料表運算式\n",
    "\n",
    "- 通用資料表運算式（Common Table Expression, CTE）是一種介於子查詢與檢視表之間的存在。\n",
    "- 我們可以將通用資料表運算式視為一種暫存的檢視表，僅在一個 SQL 敘述中有效。\n",
    "- 使用 CTE 時必須在同一個 SQL 敘述中涵蓋建立與查詢的語法。"
   ]
  },
  {
   "cell_type": "markdown",
   "id": "f3f2bf7c",
   "metadata": {
    "slideshow": {
     "slide_type": "subslide"
    }
   },
   "source": [
    "## 建立通用資料表運算式\n",
    "\n",
    "使用 `WITH` 建立通用資料表運算式並給予命名，然後再加入 SQL 敘述。\n",
    "\n",
    "```sql\n",
    "WITH cte_name AS (\n",
    "    SQL Statement\n",
    ")\n",
    "SELECT columns FROM cte_name ...;\n",
    "```"
   ]
  },
  {
   "cell_type": "markdown",
   "id": "939e2793",
   "metadata": {
    "slideshow": {
     "slide_type": "subslide"
    }
   },
   "source": [
    "## 透過通用資料表運算式複習不同的關聯類型\n",
    "\n",
    "- `(INNER) JOIN` 保留兩個資料表的「交集」觀測值。\n",
    "- `LEFT JOIN` 保留左資料表的所有觀測值。\n",
    "- `RIGHT JOIN` 保留右資料表的所有觀測值。\n",
    "- `FULL JOIN` 保留兩個資料表的「聯集」觀測值。"
   ]
  },
  {
   "cell_type": "markdown",
   "id": "d7955e27",
   "metadata": {
    "slideshow": {
     "slide_type": "subslide"
    }
   },
   "source": [
    "## `(INNER) JOIN` 保留兩個資料表的「交集」觀測值"
   ]
  },
  {
   "cell_type": "markdown",
   "id": "4d83f3f6",
   "metadata": {
    "slideshow": {
     "slide_type": "-"
    }
   },
   "source": [
    "```sql\n",
    "USE imdb;\n",
    "WITH movies_shashank_forrest AS (\n",
    "     SELECT *\n",
    "       FROM movies\n",
    "      WHERE title IN ('The Shawshank Redemption', 'Forrest Gump')\n",
    "),\n",
    "casting_shawshank_darkknight AS (\n",
    "     SELECT *\n",
    "       FROM casting\n",
    "      WHERE movie_id IN (1, 3)\n",
    ")\n",
    "SELECT movies_shashank_forrest.title,\n",
    "       casting_shawshank_darkknight.actor_id\n",
    "  FROM movies_shashank_forrest\n",
    "  JOIN casting_shawshank_darkknight\n",
    "    ON movies_shashank_forrest.id = casting_shawshank_darkknight.movie_id;\n",
    "```"
   ]
  },
  {
   "cell_type": "markdown",
   "id": "3755940f",
   "metadata": {
    "slideshow": {
     "slide_type": "subslide"
    }
   },
   "source": [
    "## `LEFT JOIN` 保留左資料表的所有觀測值"
   ]
  },
  {
   "cell_type": "markdown",
   "id": "37dd7306",
   "metadata": {
    "slideshow": {
     "slide_type": "-"
    }
   },
   "source": [
    "```sql\n",
    "USE imdb;\n",
    "WITH movies_shashank_forrest AS (\n",
    "     SELECT *\n",
    "       FROM movies\n",
    "      WHERE title IN ('The Shawshank Redemption', 'Forrest Gump')\n",
    "),\n",
    "casting_shawshank_darkknight AS (\n",
    "     SELECT *\n",
    "       FROM casting\n",
    "      WHERE movie_id IN (1, 3)\n",
    ")\n",
    "SELECT movies_shashank_forrest.title,\n",
    "       casting_shawshank_darkknight.actor_id\n",
    "  FROM movies_shashank_forrest\n",
    "  LEFT JOIN casting_shawshank_darkknight\n",
    "    ON movies_shashank_forrest.id = casting_shawshank_darkknight.movie_id;\n",
    "```"
   ]
  },
  {
   "cell_type": "markdown",
   "id": "652eaa3c",
   "metadata": {
    "slideshow": {
     "slide_type": "subslide"
    }
   },
   "source": [
    "## `RIGHT JOIN` 保留右資料表的所有觀測值"
   ]
  },
  {
   "cell_type": "markdown",
   "id": "129273dc",
   "metadata": {
    "slideshow": {
     "slide_type": "-"
    }
   },
   "source": [
    "```sql\n",
    "USE imdb;\n",
    "WITH movies_shashank_forrest AS (\n",
    "     SELECT *\n",
    "       FROM movies\n",
    "      WHERE title IN ('The Shawshank Redemption', 'Forrest Gump')\n",
    "),\n",
    "casting_shawshank_darkknight AS (\n",
    "     SELECT *\n",
    "       FROM casting\n",
    "      WHERE movie_id IN (1, 3)\n",
    ")\n",
    "SELECT movies_shashank_forrest.title,\n",
    "       casting_shawshank_darkknight.actor_id\n",
    "  FROM movies_shashank_forrest\n",
    " RIGHT JOIN casting_shawshank_darkknight\n",
    "    ON movies_shashank_forrest.id = casting_shawshank_darkknight.movie_id;\n",
    "```"
   ]
  },
  {
   "cell_type": "markdown",
   "id": "3b6f8586",
   "metadata": {
    "slideshow": {
     "slide_type": "subslide"
    }
   },
   "source": [
    "## `FULL JOIN` 保留兩個資料表的「聯集」觀測值"
   ]
  },
  {
   "cell_type": "markdown",
   "id": "a9513d57",
   "metadata": {
    "slideshow": {
     "slide_type": "-"
    }
   },
   "source": [
    "```sql\n",
    "USE imdb;\n",
    "WITH movies_shashank_forrest AS (\n",
    "     SELECT *\n",
    "       FROM movies\n",
    "      WHERE title IN ('The Shawshank Redemption', 'Forrest Gump')\n",
    "),\n",
    "casting_shawshank_darkknight AS (\n",
    "     SELECT *\n",
    "       FROM casting\n",
    "      WHERE movie_id IN (1, 3)\n",
    ")\n",
    "SELECT movies_shashank_forrest.title,\n",
    "       casting_shawshank_darkknight.actor_id\n",
    "  FROM movies_shashank_forrest\n",
    " RIGHT JOIN casting_shawshank_darkknight\n",
    "    ON movies_shashank_forrest.id = casting_shawshank_darkknight.movie_id\n",
    " UNION\n",
    "SELECT movies_shashank_forrest.title,\n",
    "       casting_shawshank_darkknight.actor_id\n",
    "  FROM movies_shashank_forrest\n",
    "  LEFT JOIN casting_shawshank_darkknight\n",
    "    ON movies_shashank_forrest.id = casting_shawshank_darkknight.movie_id;\n",
    "```"
   ]
  },
  {
   "cell_type": "markdown",
   "id": "5ddc66a6",
   "metadata": {
    "slideshow": {
     "slide_type": "slide"
    }
   },
   "source": [
    "## 交叉連接與自連接"
   ]
  },
  {
   "cell_type": "markdown",
   "id": "301d32a6",
   "metadata": {
    "slideshow": {
     "slide_type": "subslide"
    }
   },
   "source": [
    "## 什麼是交叉連接\n",
    "\n",
    "- 交叉連接（Cross-join），又稱笛卡爾連接（Cartesian join）或乘積（Product）。\n",
    "- 交叉連接會將關聯的資料表中所有可能的排列組合作為結果回傳。\n",
    "- 不需要使用 `ON` 描述連接鍵（Join key）。"
   ]
  },
  {
   "cell_type": "markdown",
   "id": "230dc2d8",
   "metadata": {
    "slideshow": {
     "slide_type": "subslide"
    }
   },
   "source": [
    "## 使用 `CROSS JOIN` 進行交叉連接\n",
    "\n",
    "```sql\n",
    "SELECT columns\n",
    "  FROM left_table\n",
    " CROSS JOIN right_table;\n",
    "```"
   ]
  },
  {
   "cell_type": "markdown",
   "id": "68622102",
   "metadata": {
    "slideshow": {
     "slide_type": "-"
    }
   },
   "source": [
    "```sql\n",
    "SELECT directors.name AS director_name,\n",
    "       actors.name AS actor_name\n",
    "  FROM directors\n",
    " CROSS JOIN actors\n",
    " WHERE directors.name IN ('Steven Spielberg', 'Christopher Nolan') AND\n",
    "       actors.name IN ('Tom Hanks', 'Tom Cruise', 'Leonardo DiCaprio');\n",
    "```"
   ]
  },
  {
   "cell_type": "markdown",
   "id": "a80a38fa",
   "metadata": {
    "slideshow": {
     "slide_type": "subslide"
    }
   },
   "source": [
    "## 什麼是自連接\n",
    "\n",
    "當關聯的左資料表與右資料表為同一個資料表的時候，就稱為自連接（Self-join）。\n",
    "\n",
    "```sql\n",
    "SELECT columns\n",
    "  FROM table\n",
    "  JOIN table\n",
    "    ON table.join_key = table.join_key;\n",
    "```"
   ]
  },
  {
   "cell_type": "markdown",
   "id": "819321a2",
   "metadata": {
    "slideshow": {
     "slide_type": "subslide"
    }
   },
   "source": [
    "## 查詢相同導演的電影組合\n",
    "\n",
    "```sql\n",
    "SELECT m1.title,\n",
    "\t   m2.title\n",
    "  FROM movies AS m1\n",
    "  JOIN movies AS m2\n",
    "    ON m1.director = m2.director\n",
    " WHERE m1.title != m2.title\n",
    " ORDER BY m1.title;\n",
    "```"
   ]
  },
  {
   "cell_type": "markdown",
   "id": "ee3c1c22",
   "metadata": {
    "slideshow": {
     "slide_type": "subslide"
    }
   },
   "source": [
    "## 查詢相同上映年份的電影組合\n",
    "\n",
    "```sql\n",
    "SELECT m1.title,\n",
    "\t   m2.title\n",
    "  FROM movies AS m1\n",
    "  JOIN movies AS m2\n",
    "    ON m1.release_year = m2.release_year\n",
    " WHERE m1.title != m2.title\n",
    " ORDER BY m1.title;\n",
    "```"
   ]
  },
  {
   "cell_type": "markdown",
   "id": "4393eb98",
   "metadata": {
    "slideshow": {
     "slide_type": "subslide"
    }
   },
   "source": [
    "## 查詢相同評等的電影組合\n",
    "\n",
    "```sql\n",
    "SELECT m1.title,\n",
    "\t   m2.title\n",
    "  FROM movies AS m1\n",
    "  JOIN movies AS m2\n",
    "    ON m1.rating = m2.rating\n",
    " WHERE m1.title != m2.title\n",
    " ORDER BY m1.rating DESC,\n",
    " \t      m1.title;\n",
    "```"
   ]
  },
  {
   "cell_type": "markdown",
   "id": "fa7e6f93",
   "metadata": {
    "slideshow": {
     "slide_type": "slide"
    }
   },
   "source": [
    "## 視窗函數"
   ]
  },
  {
   "cell_type": "markdown",
   "id": "8ba2b38e",
   "metadata": {
    "slideshow": {
     "slide_type": "subslide"
    }
   },
   "source": [
    "## 什麼是視窗函數\n",
    "\n",
    "- 視窗函數（Window functions）與分組聚合（`GROUP BY` 與聚合函數）的概念類似。\n",
    "    - 兩者相同之處在於她們都是跨列的聚合計算（Aggregate across rows）。\n",
    "    - 兩者相異之處在於視窗函數並不會將多列的輸出摘要為單列輸出，而聚合函數會。\n",
    "- 視窗函數會搭配特別的保留字使用：\n",
    "    - `OVER()`\n",
    "    - `PARTITION BY`"
   ]
  },
  {
   "cell_type": "markdown",
   "id": "3ce44c34",
   "metadata": {
    "slideshow": {
     "slide_type": "subslide"
    }
   },
   "source": [
    "## 如何使用視窗函數\n",
    "\n",
    "- `PARTITION BY` 保留字作用與 `GROUP BY` 保留字類似。\n",
    "- `ORDER BY` 保留字為「選填」，搭配特定視窗函數（例如具有排序功能）的時候使用。\n",
    "\n",
    "```sql\n",
    "SELECT window_function() OVER (\n",
    "    PARTITION BY columns,\n",
    "    ORDER BY columns,\n",
    "    ...\n",
    ") AS alias\n",
    "  FROM table;\n",
    "```"
   ]
  },
  {
   "cell_type": "markdown",
   "id": "0c0614c3",
   "metadata": {
    "slideshow": {
     "slide_type": "subslide"
    }
   },
   "source": [
    "## 分組聚合與視窗函數的異同\n",
    "\n",
    "```sql\n",
    "-- 分組聚合\n",
    "SELECT rating,\n",
    "       COUNT(*) AS number_of_movies\n",
    "  FROM movies\n",
    " GROUP BY rating;\n",
    "-- 視窗函數\n",
    "SELECT title,\n",
    "\t   rating,\n",
    "       COUNT(*) OVER (\n",
    "           PARTITION BY rating\n",
    "       ) AS number_of_movies_by_rating\n",
    "  FROM movies\n",
    " ORDER BY rating DESC;\n",
    "```"
   ]
  },
  {
   "cell_type": "markdown",
   "id": "a54dea82",
   "metadata": {
    "slideshow": {
     "slide_type": "subslide"
    }
   },
   "source": [
    "## 視窗函數的分類\n",
    "\n",
    "1. 一般聚合函數。\n",
    "2. 具有排序功能的視窗函數。\n",
    "3. `LEAD()` 與 `LAG()` 函數。"
   ]
  },
  {
   "cell_type": "markdown",
   "id": "4c3f89e3",
   "metadata": {
    "slideshow": {
     "slide_type": "subslide"
    }
   },
   "source": [
    "## 視窗函數的分類：一般聚合函數\n",
    "\n",
    "```sql\n",
    "SELECT title,\n",
    "       rating,\n",
    "       AVG(rating) OVER (\n",
    "           PARTITION BY release_year\n",
    "       ) AS avg_rating_by_year\n",
    "  FROM movies\n",
    " ORDER BY release_year DESC;\n",
    "```"
   ]
  },
  {
   "cell_type": "markdown",
   "id": "69d3d3d2",
   "metadata": {
    "slideshow": {
     "slide_type": "subslide"
    }
   },
   "source": [
    "## 視窗函數的分類：具有排序功能的視窗函數\n",
    "\n",
    "- `ROW_NUMBER()`：相同數值給予不重複排序。\n",
    "- `RANK()`：相同數值給予重複排序。\n",
    "- `FIRST_VALUE()`/`LAST_VALUE()`/`NTH_VALUE()`"
   ]
  },
  {
   "cell_type": "markdown",
   "id": "639afe51",
   "metadata": {
    "slideshow": {
     "slide_type": "subslide"
    }
   },
   "source": [
    "## 視窗函數的分類：具有排序功能的視窗函數（續）\n",
    "\n",
    "```sql\n",
    "SELECT title,\n",
    "       rating,\n",
    "       ROW_NUMBER() OVER (ORDER BY rating DESC) AS row_num,\n",
    "       RANK() OVER (ORDER BY rating DESC) AS rating_rank\n",
    "  FROM movies;\n",
    "```"
   ]
  },
  {
   "cell_type": "markdown",
   "id": "6e3a78fd",
   "metadata": {
    "slideshow": {
     "slide_type": "subslide"
    }
   },
   "source": [
    "## 視窗函數的分類：具有排序功能的視窗函數（續）\n",
    "\n",
    "```sql\n",
    "SELECT title,\n",
    "\t   release_year,\n",
    "       rating,\n",
    "       FIRST_VALUE(rating) OVER (PARTITION BY release_year) AS highest_rating_by_year,\n",
    "       LAST_VALUE(rating) OVER (PARTITION BY release_year) AS lowest_rating_by_year,\n",
    "       NTH_VALUE(rating, 2) OVER (PARTITION BY release_year) AS second_highest_rating_by_year\n",
    "  FROM movies\n",
    " ORDER BY release_year DESC;\n",
    "```"
   ]
  },
  {
   "cell_type": "markdown",
   "id": "4b371c63",
   "metadata": {
    "slideshow": {
     "slide_type": "subslide"
    }
   },
   "source": [
    "## 視窗函數的分類：`LEAD()` 與 `LAG()` 函數\n",
    "\n"
   ]
  },
  {
   "cell_type": "markdown",
   "id": "e2c75aba",
   "metadata": {},
   "source": [
    "```sql\n",
    "use covid19;\n",
    "SELECT date,\n",
    "\t   country_region_id,\n",
    "\t   cumulative_confirmed,\n",
    "\t   LAG(cumulative_confirmed) OVER (\n",
    "\t   \t   PARTITION BY country_region_id\n",
    "\t       ORDER BY date\n",
    "\t   ) AS lag_cumulative_confirmed,\n",
    "\t   cumulative_deaths,\n",
    "\t   LAG(cumulative_deaths) OVER (\n",
    "\t   \t   PARTITION BY country_region_id\n",
    "\t       ORDER BY date\n",
    "\t   ) AS lag_cumulative_deaths\n",
    "  FROM time_series\n",
    " WHERE country_region_id = (SELECT id\n",
    "                              FROM lookup_table \n",
    "                             WHERE country_region = 'Taiwan');\n",
    "```"
   ]
  },
  {
   "cell_type": "markdown",
   "id": "544574b4",
   "metadata": {
    "slideshow": {
     "slide_type": "subslide"
    }
   },
   "source": [
    "## 使用 `LAG()` 函數計算每日確診、死亡數"
   ]
  },
  {
   "cell_type": "markdown",
   "id": "6ebe2143",
   "metadata": {
    "slideshow": {
     "slide_type": "subslide"
    }
   },
   "source": [
    "```sql\n",
    "use covid19;\n",
    "SELECT date,\n",
    "\t   country_region_id,\n",
    "\t   cumulative_confirmed,\n",
    "       cumulative_deaths,\n",
    "\t   cumulative_confirmed - LAG(cumulative_confirmed) OVER (\n",
    "\t   \t   PARTITION BY country_region_id\n",
    "\t       ORDER BY date\n",
    "\t   ) AS daily_confirmed,\n",
    "\t   cumulative_deaths - LAG(cumulative_deaths) OVER (\n",
    "\t   \t   PARTITION BY country_region_id\n",
    "\t       ORDER BY date\n",
    "\t   ) AS daily_deaths \n",
    "  FROM time_series;\n",
    "```"
   ]
  }
 ],
 "metadata": {
  "celltoolbar": "Slideshow",
  "kernelspec": {
   "display_name": "xsql",
   "language": "sqlite",
   "name": "xsql"
  },
  "language_info": {
   "codemirror_mode": "sql",
   "file_extension": "",
   "mimetype": "",
   "name": "mysql",
   "version": "0.1.5"
  }
 },
 "nbformat": 4,
 "nbformat_minor": 5
}
