{
 "cells": [
  {
   "cell_type": "markdown",
   "id": "62be485e",
   "metadata": {
    "slideshow": {
     "slide_type": "slide"
    }
   },
   "source": [
    "# 進階的 SQL 五十道練習\n",
    "\n",
    "> 資料控制語言與交易控制語言\n",
    "\n",
    "[數聚點](https://www.datainpoint.com) | 郭耀仁 <yaojenkuo@datainpoint.com>"
   ]
  },
  {
   "cell_type": "markdown",
   "id": "0a2425ca",
   "metadata": {
    "slideshow": {
     "slide_type": "subslide"
    }
   },
   "source": [
    "## SQL 的組成與分類（複習）\n",
    "\n",
    "- 具體來說，SQL 是由保留字（Keyword）、符號、常數與函數所組合而成的一種語言。\n",
    "- 依照使用目的進而區別 SQL 的分類：\n",
    "\n",
    "|SQL 的分類|範例|\n",
    "|:---------|:----|\n",
    "|資料查詢語言（Data Query Language, DQL）|`SELECT ...`|\n",
    "|資料定義語言（Data Definition Language, DDL）|`CREATE ...`|\n",
    "|資料操作語言（Data Manipulation Language, DML）|`UPDATE ...`|\n",
    "|資料控制語言（Data Control Language, DCL）|`GRANT ...`|\n",
    "|交易控制語言（Transaction Control Language, TCL）|`COMMIT ...`|"
   ]
  },
  {
   "cell_type": "markdown",
   "id": "926ddc16",
   "metadata": {
    "slideshow": {
     "slide_type": "subslide"
    }
   },
   "source": [
    "## 資料控制語言（Data Control Language, DCL）最主要的保留字\n",
    "\n",
    "- `GRANT`\n",
    "- `REVOKE`\n",
    "\n",
    "這意味著我們可以給予及移除使用者的權限。"
   ]
  },
  {
   "cell_type": "markdown",
   "id": "6a708bce",
   "metadata": {
    "slideshow": {
     "slide_type": "subslide"
    }
   },
   "source": [
    "## 交易控制語言（Transaction Control Language, DCL）最主要的保留字\n",
    "\n",
    "- `COMMIT`\n",
    "- `ROLLBACK`\n",
    "\n",
    "這意味著我們可以執行連串的整合型資料操作或者取消連串的整合型資料操作。"
   ]
  },
  {
   "cell_type": "markdown",
   "id": "c7993df2",
   "metadata": {
    "slideshow": {
     "slide_type": "slide"
    }
   },
   "source": [
    "## 資料控制語言"
   ]
  },
  {
   "cell_type": "markdown",
   "id": "047c473c",
   "metadata": {
    "slideshow": {
     "slide_type": "subslide"
    }
   },
   "source": [
    "## 透過 root 帳號（MySQL 最大權限的管理者）規劃角色\n",
    "\n",
    "- 管理者：administrator\n",
    "- 活躍用戶：poweruser\n",
    "- 一般用戶：viewer"
   ]
  },
  {
   "cell_type": "markdown",
   "id": "49cbac9d",
   "metadata": {
    "slideshow": {
     "slide_type": "subslide"
    }
   },
   "source": [
    "## 以 `CREATE` 建立角色\n",
    "\n",
    "```sql\n",
    "CREATE ROLE role_name@connection_name;\n",
    "```"
   ]
  },
  {
   "cell_type": "markdown",
   "id": "f3006989",
   "metadata": {
    "slideshow": {
     "slide_type": "-"
    }
   },
   "source": [
    "```sql\n",
    "CREATE ROLE 'administrator'@'localhost',\n",
    "            'poweruser'@'localhost',\n",
    "            'viewer'@'localhost';\n",
    "```"
   ]
  },
  {
   "cell_type": "markdown",
   "id": "19b48e58",
   "metadata": {
    "slideshow": {
     "slide_type": "subslide"
    }
   },
   "source": [
    "## 以 `GRANT` 給予角色權限\n",
    "\n",
    "```sql\n",
    "GRANT privilege ON db_name.table_name TO role_name@connection_name;\n",
    "```"
   ]
  },
  {
   "cell_type": "markdown",
   "id": "be85472e",
   "metadata": {},
   "source": [
    "```sql\n",
    "GRANT ALL ON imdb.* TO 'administrator'@'localhost';\n",
    "GRANT CREATE VIEW ON imdb.* TO 'poweruser'@'localhost';\n",
    "GRANT SELECT ON imdb.* TO 'poweruser'@'localhost', 'viewer'@'localhost';\n",
    "```"
   ]
  },
  {
   "cell_type": "markdown",
   "id": "554b53b7",
   "metadata": {
    "slideshow": {
     "slide_type": "subslide"
    }
   },
   "source": [
    "## 以 `CREATE` 建立使用者\n",
    "\n",
    "```sql\n",
    "CREATE USER user_name@connection_name IDENTIFIED BY password DEFAULT ROLE role_name;\n",
    "```"
   ]
  },
  {
   "cell_type": "markdown",
   "id": "85752ff8",
   "metadata": {
    "slideshow": {
     "slide_type": "-"
    }
   },
   "source": [
    "```sql\n",
    "CREATE USER 'administrator1'@'localhost' IDENTIFIED BY 'password' DEFAULT ROLE 'administrator'@'localhost';\n",
    "CREATE USER 'administrator2'@'localhost' IDENTIFIED BY 'password' DEFAULT ROLE 'administrator'@'localhost';\n",
    "CREATE USER 'poweruser1'@'localhost' IDENTIFIED BY 'password' DEFAULT ROLE 'poweruser'@'localhost';\n",
    "CREATE USER 'poweruser2'@'localhost' IDENTIFIED BY 'password' DEFAULT ROLE 'poweruser'@'localhost';\n",
    "CREATE USER 'viewer1'@'localhost' IDENTIFIED BY 'password' DEFAULT ROLE 'viewer'@'localhost';\n",
    "CREATE USER 'viewer2'@'localhost' IDENTIFIED BY 'password' DEFAULT ROLE 'viewer'@'localhost';\n",
    "```"
   ]
  },
  {
   "cell_type": "markdown",
   "id": "aff8a841",
   "metadata": {
    "slideshow": {
     "slide_type": "subslide"
    }
   },
   "source": [
    "## 以不同的使用者帳號登入觀察權限\n",
    "\n",
    "![](https://raw.githubusercontent.com/datainpoint/classroom-adv-sqlfifty/main/images/connection_dropdown.png)"
   ]
  },
  {
   "cell_type": "markdown",
   "id": "c027b478",
   "metadata": {
    "slideshow": {
     "slide_type": "subslide"
    }
   },
   "source": [
    "## 以不同的使用者帳號登入觀察權限（續）\n",
    "\n",
    "- 點選 Driver properties\n",
    "- 調整 `allowPublicKeyRetrieval = TRUE`\n",
    "\n",
    "![](https://raw.githubusercontent.com/datainpoint/classroom-adv-sqlfifty/main/images/connection_profile.png)"
   ]
  },
  {
   "cell_type": "markdown",
   "id": "9801ba28",
   "metadata": {
    "slideshow": {
     "slide_type": "subslide"
    }
   },
   "source": [
    "## 以 `REVOKE` 移除角色的權限\n",
    "\n",
    "```sql\n",
    "REVOKE privilege ON db_name.table_name FROM role_name@connection_name;\n",
    "```"
   ]
  },
  {
   "cell_type": "markdown",
   "id": "f0945144",
   "metadata": {},
   "source": [
    "```sql\n",
    "REVOKE CREATE VIEW ON imdb.* FROM 'poweruser'@'localhost';\n",
    "```"
   ]
  },
  {
   "cell_type": "markdown",
   "id": "08451c11",
   "metadata": {
    "slideshow": {
     "slide_type": "subslide"
    }
   },
   "source": [
    "## 以 `poweruser` 角色的帳號登入觀察權限"
   ]
  },
  {
   "cell_type": "markdown",
   "id": "170be68b",
   "metadata": {
    "slideshow": {
     "slide_type": "slide"
    }
   },
   "source": [
    "## 交易控制語言"
   ]
  },
  {
   "cell_type": "markdown",
   "id": "a34ea6a8",
   "metadata": {
    "slideshow": {
     "slide_type": "subslide"
    }
   },
   "source": [
    "## 將資料庫的多個操作合併執行就稱為交易（Transaction）\n",
    "\n",
    "- 先前 SQL 的使用場景多半為「逐句執行」。\n",
    "- 當我們需要連續新增、更新資料時，就可以透過交易將連串的操作整合為一個動作。\n",
    "- 透過交易可以避免因操作過程中斷導致資料的不完整。"
   ]
  },
  {
   "cell_type": "markdown",
   "id": "04064a37",
   "metadata": {
    "slideshow": {
     "slide_type": "subslide"
    }
   },
   "source": [
    "## 交易的特性\n",
    "\n",
    "- 原子性（Atomicity）：交易中的操作一定會是「皆未執行」或者「皆已執行」其中一個狀態。\n",
    "- 一致性（Consistency）：確保資料的完整性。\n",
    "- 隔離性（Isolation）：執行到一半的操作並不會對其他操作產生影響。\n",
    "- 持久性（Durability）：交易完成後不會遺失操作結果。"
   ]
  },
  {
   "cell_type": "markdown",
   "id": "08111ea2",
   "metadata": {
    "slideshow": {
     "slide_type": "subslide"
    }
   },
   "source": [
    "## 以帳戶資料為例\n",
    "\n",
    "```sql\n",
    "CREATE DATABASE tcl;\n",
    "USE tcl;\n",
    "CREATE TABLE accounts (\n",
    "    id INT AUTO_INCREMENT,\n",
    "    balance DECIMAL,\n",
    "    PRIMARY KEY (id)\n",
    ");\n",
    "CREATE TABLE trades (\n",
    "    id INT AUTO_INCREMENT,\n",
    "    from_account_id INT,\n",
    "    to_account_id INT,\n",
    "    amount DECIMAL,\n",
    "    PRIMARY KEY (id),\n",
    "    FOREIGN KEY (from_account_id) REFERENCES accounts (id),\n",
    "    FOREIGN KEY (to_account_id) REFERENCES accounts (id)\n",
    ");\n",
    "INSERT INTO accounts (balance) VALUES\n",
    "\t(10000),\n",
    "\t(10000);\n",
    "```"
   ]
  },
  {
   "cell_type": "markdown",
   "id": "16e16537",
   "metadata": {
    "slideshow": {
     "slide_type": "subslide"
    }
   },
   "source": [
    "## 描述與執行交易\n",
    "\n",
    "- 以 `START TRANSACTION` 描述交易內容。\n",
    "- 以 `COMMIT` 執行交易。\n",
    "\n",
    "```sql\n",
    "START TRANSACTION;\n",
    "transactions...\n",
    "COMMIT;\n",
    "```"
   ]
  },
  {
   "cell_type": "markdown",
   "id": "d17d8225",
   "metadata": {},
   "source": [
    "```sql\n",
    "START TRANSACTION;\n",
    "INSERT INTO trades (from_account_id, to_account_id, amount) VALUES\n",
    "    (1, 2, 5000);\n",
    "UPDATE accounts\n",
    "   SET balance = balance - 5000\n",
    " WHERE id = 1;\n",
    "UPDATE accounts\n",
    "   SET balance = balance + 5000\n",
    " WHERE id = 2;\n",
    "COMMIT;\n",
    "```"
   ]
  },
  {
   "cell_type": "markdown",
   "id": "dc3d8184",
   "metadata": {
    "slideshow": {
     "slide_type": "subslide"
    }
   },
   "source": [
    "## 描述與取消交易\n",
    "\n",
    "- 以 `START TRANSACTION` 描述交易內容。\n",
    "- 以 `ROLLBACK` 取消交易。\n",
    "\n",
    "```sql\n",
    "START TRANSACTION;\n",
    "transactions...\n",
    "ROLLBACK;\n",
    "```"
   ]
  },
  {
   "cell_type": "markdown",
   "id": "9afec1bf",
   "metadata": {},
   "source": [
    "```sql\n",
    "START TRANSACTION;\n",
    "INSERT INTO trades (from_account_id, to_account_id, amount) VALUES\n",
    "    (1, 2, 5000);\n",
    "UPDATE accounts\n",
    "   SET balance = balance - 5000\n",
    " WHERE id = 1;\n",
    "UPDATE accounts\n",
    "   SET balance = balance + 5000\n",
    " WHERE id = 2;\n",
    "```"
   ]
  },
  {
   "cell_type": "markdown",
   "id": "8fb8ed34",
   "metadata": {
    "slideshow": {
     "slide_type": "subslide"
    }
   },
   "source": [
    "## 帳戶餘額以及交易明細已經更新\n",
    "\n",
    "```sql\n",
    "SELECT *\n",
    "  FROM accounts;\n",
    "SELECT *\n",
    "  FROM trades;\n",
    "```"
   ]
  },
  {
   "cell_type": "markdown",
   "id": "88a83119",
   "metadata": {
    "slideshow": {
     "slide_type": "subslide"
    }
   },
   "source": [
    "## 以 `ROLLBACK` 取消交易後再檢視資料表\n",
    "\n",
    "```sql\n",
    "ROLLBACK;\n",
    "SELECT *\n",
    "  FROM accounts;\n",
    "SELECT *\n",
    "  FROM trades;\n",
    "```"
   ]
  }
 ],
 "metadata": {
  "celltoolbar": "Slideshow",
  "kernelspec": {
   "display_name": "xsql",
   "language": "sqlite",
   "name": "xsql"
  },
  "language_info": {
   "codemirror_mode": "sql",
   "file_extension": "",
   "mimetype": "",
   "name": "mysql",
   "version": "0.1.5"
  }
 },
 "nbformat": 4,
 "nbformat_minor": 5
}
