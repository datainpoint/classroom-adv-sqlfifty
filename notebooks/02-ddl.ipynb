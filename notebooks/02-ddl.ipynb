{
 "cells": [
  {
   "cell_type": "markdown",
   "id": "62be485e",
   "metadata": {
    "slideshow": {
     "slide_type": "slide"
    }
   },
   "source": [
    "# 進階的 SQL 五十道練習\n",
    "\n",
    "> 資料定義語言\n",
    "\n",
    "[數聚點](https://www.datainpoint.com) | 郭耀仁 <yaojenkuo@datainpoint.com>"
   ]
  },
  {
   "cell_type": "markdown",
   "id": "0a2425ca",
   "metadata": {
    "slideshow": {
     "slide_type": "subslide"
    }
   },
   "source": [
    "## SQL 的組成與分類（複習）\n",
    "\n",
    "- 具體來說，SQL 是由保留字（Keyword）、符號、常數與函數所組合而成的一種語言。\n",
    "- 依照使用目的進而區別 SQL 的分類：\n",
    "\n",
    "|SQL 的分類|範例|\n",
    "|:---------|:----|\n",
    "|資料查詢語言（Data Query Language, DQL）|`SELECT ...`|\n",
    "|資料定義語言（Data Definition Language, DDL）|`CREATE ...`|\n",
    "|資料操作語言（Data Manipulation Language, DML）|`UPDATE ...`|\n",
    "|資料控制語言（Data Control Language, DCL）|`GRANT ...`|\n",
    "|交易控制語言（Transaction Control Language, TCL）|`COMMIT ...`|"
   ]
  },
  {
   "cell_type": "markdown",
   "id": "926ddc16",
   "metadata": {
    "slideshow": {
     "slide_type": "subslide"
    }
   },
   "source": [
    "## 資料定義語言（Data Definition Language, DDL）最主要的保留字\n",
    "\n",
    "- `CREATE`\n",
    "- `TRUNCATE`\n",
    "- `DROP`\n",
    "- `ALTER`\n",
    "\n",
    "這意味著我們可以在環境中創造、刪除與更新物件。"
   ]
  },
  {
   "cell_type": "markdown",
   "id": "a15ba258",
   "metadata": {
    "slideshow": {
     "slide_type": "subslide"
    }
   },
   "source": [
    "## 有哪些物件可以被創造、刪除與更新\n",
    "\n",
    "- 資料庫（Database）\n",
    "- 資料表（Table）。\n",
    "- 檢視表（View）。"
   ]
  },
  {
   "cell_type": "markdown",
   "id": "c7993df2",
   "metadata": {
    "slideshow": {
     "slide_type": "slide"
    }
   },
   "source": [
    "## 資料庫（Database）"
   ]
  },
  {
   "cell_type": "markdown",
   "id": "38d0b18d",
   "metadata": {
    "slideshow": {
     "slide_type": "subslide"
    }
   },
   "source": [
    "## 以 `CREATE DATABASE` 創造資料庫\n",
    "\n",
    "```sql\n",
    "CREATE DATABASE db_name;\n",
    "```\n",
    "\n",
    "執行之後可以在左側資料庫按右鍵下拉式選單點選 Refresh 即可檢視資料庫是否被創造。"
   ]
  },
  {
   "cell_type": "markdown",
   "id": "cd4357a3",
   "metadata": {
    "slideshow": {
     "slide_type": "-"
    }
   },
   "source": [
    "```sql\n",
    "CREATE DATABASE ddl;\n",
    "```"
   ]
  },
  {
   "cell_type": "markdown",
   "id": "2cb4d9cd",
   "metadata": {
    "slideshow": {
     "slide_type": "subslide"
    }
   },
   "source": [
    "## 以 `DROP DATABASE` 刪除資料庫\n",
    "\n",
    "```sql\n",
    "DROP DATABASE IF EXISTS db_name;\n",
    "```\n",
    "\n",
    "執行之後可以在左側資料庫按右鍵下拉式選單點選 Refresh 即可檢視資料庫是否被刪除。"
   ]
  },
  {
   "cell_type": "markdown",
   "id": "574c3b2c",
   "metadata": {
    "slideshow": {
     "slide_type": "-"
    }
   },
   "source": [
    "```sql\n",
    "DROP DATABASE IF EXISTS ddl;\n",
    "```"
   ]
  },
  {
   "cell_type": "markdown",
   "id": "d136288b",
   "metadata": {
    "slideshow": {
     "slide_type": "subslide"
    }
   },
   "source": [
    "## 連線工具的使用者介面也可以輕鬆創造、刪除資料庫\n",
    "\n",
    "- 左側資料庫按右鍵下拉式選單點選 Create New Database\n",
    "- 選擇 Charset 與 Collation\n",
    "    - Charset: utf8mb4\n",
    "    - Collation: utf8mb4_unicode_ci\n",
    "- 左側資料庫按右鍵下拉式選單點選 Delete\n",
    "    \n",
    "```sql\n",
    "CREATE DATABASE db_name CHARACTER SET utf8mb4 COLLATE utf8mb4_unicode_ci;\n",
    "\n",
    "DROP DATABASE IF EXISTS db_name;\n",
    "```"
   ]
  },
  {
   "cell_type": "markdown",
   "id": "a4ed628e",
   "metadata": {
    "slideshow": {
     "slide_type": "subslide"
    }
   },
   "source": [
    "## 什麼是 Charset 與 Collation\n",
    "\n",
    "- MySQL utf8 並不是一般常用的 utf8 編碼，而是 utf8mb3(most bytes 3)\n",
    "- MySQL utf8mb4(most bytes 4)對應到一般常用的 utf8 編碼，可以顯示冷僻字或者表情符號（Emoji）\n",
    "- Collation 影響文字資料的排序以及搜尋：utf8mb4_unicode_ci 準確但比較慢 utf8mb4_general_ci 速度快但相對不準確。"
   ]
  },
  {
   "cell_type": "markdown",
   "id": "ab9b0f86",
   "metadata": {
    "slideshow": {
     "slide_type": "slide"
    }
   },
   "source": [
    "## 資料表（Table）"
   ]
  },
  {
   "cell_type": "markdown",
   "id": "d7e11328",
   "metadata": {
    "slideshow": {
     "slide_type": "subslide"
    }
   },
   "source": [
    "## 以 `CREATE TABLE` 創造資料表\n",
    "\n",
    "```sql\n",
    "CREATE TABLE table_name (\n",
    "    column1 datatype,\n",
    "    column2 datatype,\n",
    "    column3 datatype,\n",
    "    ....\n",
    ");\n",
    "```\n",
    "\n",
    "執行之後可以在左側資料庫按右鍵下拉式選單點選 Refresh 即可檢視資料表是否被創造。"
   ]
  },
  {
   "cell_type": "markdown",
   "id": "3430525e",
   "metadata": {
    "slideshow": {
     "slide_type": "subslide"
    }
   },
   "source": [
    "## MySQL 的資料類型\n",
    "\n",
    "- 數值\n",
    "- 文字\n",
    "- 日期與時間"
   ]
  },
  {
   "cell_type": "markdown",
   "id": "f3a6d821",
   "metadata": {
    "slideshow": {
     "slide_type": "subslide"
    }
   },
   "source": [
    "## MySQL 常用的數值資料類型\n",
    "\n",
    "- 整數\n",
    "    - `TINYINT`: $2^8$: $-2^{7} \\text{~} 2^{7} - 1$\n",
    "    - `SMALLINT`: $2^{16}$: $-2^{15} \\text{~} 2^{15} - 1$\n",
    "    - `MEDIUMINT`: $2^{24}$: $-2^{23} \\text{~} 2^{23} - 1$\n",
    "    - `INT`: $2^{32}$: $-2^{31} \\text{~} 2^{31} - 1$\n",
    "    - `BIGINT`: $2^{64}$: $-2^{63} \\text{~} 2^{63} - 1$\n",
    "- 浮點數\n",
    "    - `DECIMAL`：正確無誤差的小數。\n",
    "    - `FLOAT`：精準到小數第 7 位左右。\n",
    "    - `DOUBLE`：精準到小數第 15 位左右。"
   ]
  },
  {
   "cell_type": "markdown",
   "id": "1befef7c",
   "metadata": {
    "slideshow": {
     "slide_type": "subslide"
    }
   },
   "source": [
    "```sql\n",
    "DROP DATABASE IF EXISTS ddl;\n",
    "CREATE DATABASE ddl;\n",
    "USE ddl;\n",
    "CREATE TABLE movies (\n",
    "    id INT,\n",
    "    rating FLOAT\n",
    ");\n",
    "```"
   ]
  },
  {
   "cell_type": "markdown",
   "id": "b5c1fe8f",
   "metadata": {
    "slideshow": {
     "slide_type": "subslide"
    }
   },
   "source": [
    "## MySQL 常用的文字資料類型\n",
    "\n",
    "- `CHAR`: 可指定為 0 ~ 255 位元組。\n",
    "- `VARCHAR`: 可指定為 0 ~ $2^{16} - 1$ 位元組。\n",
    "- `TINYTEXT`: 255 位元組。\n",
    "- `TEXT`: $2^{16} - 1$ 位元組。\n",
    "- `MEDIUMTEXT`: $2^{24} - 1$ 位元組。\n",
    "- `LONGTEXT`: $2^{32} - 1$ 位元組。"
   ]
  },
  {
   "cell_type": "markdown",
   "id": "15bd4384",
   "metadata": {
    "slideshow": {
     "slide_type": "subslide"
    }
   },
   "source": [
    "## `CHAR` 與 `VARCHAR` 的差別\n",
    "\n",
    "- `CHAR` 為固定長度，會填入空白補滿長度。\n",
    "- `VARCHAR` 為可變長度，不會填入空白補滿長度。\n",
    "- 使用固定長度的資料類型能提高查詢、輸入資料的效率。"
   ]
  },
  {
   "cell_type": "markdown",
   "id": "9f03c412",
   "metadata": {
    "slideshow": {
     "slide_type": "subslide"
    }
   },
   "source": [
    "```sql\n",
    "DROP DATABASE IF EXISTS ddl;\n",
    "CREATE DATABASE ddl;\n",
    "CREATE TABLE movies (\n",
    "    id INT,\n",
    "    rating FLOAT,\n",
    "    title TEXT\n",
    ");\n",
    "```"
   ]
  },
  {
   "cell_type": "markdown",
   "id": "fcbecb6e",
   "metadata": {
    "slideshow": {
     "slide_type": "subslide"
    }
   },
   "source": [
    "## MySQL 常用的日期時間資料類型\n",
    "\n",
    "- `DATE`: 日期 `YYYY-MM-DD`。\n",
    "- `DATETIME`: 日期時間 `YYYY-MM-DD hh:mm:ss`。\n",
    "- `TIME`: 時間 `hh:mm:ss`。\n",
    "- `YEAR`: 年 `YYYY`。"
   ]
  },
  {
   "cell_type": "markdown",
   "id": "42f9c9f9",
   "metadata": {
    "slideshow": {
     "slide_type": "subslide"
    }
   },
   "source": [
    "```sql\n",
    "DROP DATABASE IF EXISTS ddl;\n",
    "CREATE DATABASE ddl;\n",
    "USE ddl;\n",
    "CREATE TABLE movies (\n",
    "    id INT,\n",
    "    rating FLOAT,\n",
    "    title TEXT,\n",
    "    release_year YEAR\n",
    ");\n",
    "```"
   ]
  },
  {
   "cell_type": "markdown",
   "id": "b54dc98e",
   "metadata": {
    "slideshow": {
     "slide_type": "subslide"
    }
   },
   "source": [
    "## 以 `ALTER TABLE` 更新資料表\n",
    "\n",
    "- 以 `ADD` 新增欄位。\n",
    "- 以 `DROP COLUMN` 刪除欄位。\n",
    "- 以 `RENAME COLUMN` 更新欄位名稱\n",
    "- 以 `MODIFY COLUMN` 更新資料類型\n",
    "\n",
    "```sql\n",
    "ALTER TABLE table_name ADD|DROP COLUMN|RENAME COLUMN|MODIFY COLUMN columns;\n",
    "```"
   ]
  },
  {
   "cell_type": "markdown",
   "id": "2d0a3dc8",
   "metadata": {
    "slideshow": {
     "slide_type": "subslide"
    }
   },
   "source": [
    "```sql\n",
    "USE ddl;\n",
    "ALTER TABLE movies ADD release_date DATE;\n",
    "```"
   ]
  },
  {
   "cell_type": "markdown",
   "id": "6ed7a4c4",
   "metadata": {
    "slideshow": {
     "slide_type": "-"
    }
   },
   "source": [
    "```sql\n",
    "USE ddl;\n",
    "ALTER TABLE movies DROP COLUMN release_date;\n",
    "```"
   ]
  },
  {
   "cell_type": "markdown",
   "id": "5c3679a2",
   "metadata": {
    "slideshow": {
     "slide_type": "-"
    }
   },
   "source": [
    "```sql\n",
    "USE ddl;\n",
    "ALTER TABLE movies RENAME COLUMN release_year TO release_date;\n",
    "```"
   ]
  },
  {
   "cell_type": "markdown",
   "id": "b1f1acfa",
   "metadata": {
    "slideshow": {
     "slide_type": "-"
    }
   },
   "source": [
    "```sql\n",
    "USE ddl;\n",
    "ALTER TABLE movies MODIFY COLUMN release_date DATE;\n",
    "```"
   ]
  },
  {
   "cell_type": "markdown",
   "id": "5491e2e2",
   "metadata": {
    "slideshow": {
     "slide_type": "subslide"
    }
   },
   "source": [
    "## 以 `TRUNCATE` 刪除資料表中的所有資料\n",
    "\n",
    "```sql\n",
    "TRUNCATE TABLE table_name\n",
    "```"
   ]
  },
  {
   "cell_type": "markdown",
   "id": "138f1b0b",
   "metadata": {
    "slideshow": {
     "slide_type": "-"
    }
   },
   "source": [
    "```sql\n",
    "USE ddl;\n",
    "TRUNCATE TABLE movies;\n",
    "```"
   ]
  },
  {
   "cell_type": "markdown",
   "id": "ed4761e5",
   "metadata": {
    "slideshow": {
     "slide_type": "subslide"
    }
   },
   "source": [
    "## 以 `DROP TABLE` 刪除資料表\n",
    "\n",
    "```sql\n",
    "DROP TABLE IF EXISTS db_name;\n",
    "```\n",
    "\n",
    "執行之後可以在左側資料庫按右鍵下拉式選單點選 Refresh 即可檢視資料表是否被刪除。"
   ]
  },
  {
   "cell_type": "markdown",
   "id": "92d83e70",
   "metadata": {
    "slideshow": {
     "slide_type": "-"
    }
   },
   "source": [
    "```sql\n",
    "USE ddl;\n",
    "DROP TABLE IF EXISTS movies;\n",
    "```"
   ]
  },
  {
   "cell_type": "markdown",
   "id": "e36535f1",
   "metadata": {
    "slideshow": {
     "slide_type": "subslide"
    }
   },
   "source": [
    "## 連線工具的使用者介面也可以輕鬆創造、刪除資料表\n",
    "\n",
    "- 左側資料庫按右鍵下拉式選單點選 Create New Table\n",
    "- 左側資料庫按右鍵下拉式選單點選 Delete"
   ]
  },
  {
   "cell_type": "markdown",
   "id": "62d88b66",
   "metadata": {
    "slideshow": {
     "slide_type": "slide"
    }
   },
   "source": [
    "## 檢視表（View）"
   ]
  },
  {
   "cell_type": "markdown",
   "id": "3f9b2f10",
   "metadata": {
    "slideshow": {
     "slide_type": "subslide"
    }
   },
   "source": [
    "## 什麼是檢視表\n",
    "\n",
    "- 檢視表是一段被儲存在資料庫中的 SQL 敘述，具有一個物件命名。\n",
    "- 想要檢視該段 SQL 敘述的查詢結果時，只需要將檢視表命名放在 `FROM` 保留字之後即可。"
   ]
  },
  {
   "cell_type": "markdown",
   "id": "b1211330",
   "metadata": {
    "slideshow": {
     "slide_type": "subslide"
    }
   },
   "source": [
    "## 檢視表不等於資料表\n",
    "\n",
    "- 實際上檢視表儲存的內容並不是列（Rows）與欄（Columns）所組成的二維表格，而是一段 SQL 敘述。\n",
    "- 只有在對檢視表寫作資料查詢語言時，才會執行被儲存的 SQL 敘述。\n",
    "- 簡單來說，檢視表是一種介於「子查詢」與「創造資料表」之間的功能。\n",
    "- 檢視表就像是資料表版本的「衍生計算欄位」，由於多數「非資料庫管理員」的資料分析師在公司中沒有創造資料表的權限，因此若是有創造檢視表的權限將可以滿足我們對資料表的創造需求。"
   ]
  },
  {
   "cell_type": "markdown",
   "id": "05683ab4",
   "metadata": {
    "slideshow": {
     "slide_type": "subslide"
    }
   },
   "source": [
    "## 以 `CREATE VIEW` 創造檢視表\n",
    "\n",
    "```sql\n",
    "CREATE VIEW view_name\n",
    "    AS\n",
    "   SQL statement to be stored;\n",
    "```\n",
    "\n",
    "執行之後可以在左側資料庫按右鍵下拉式選單點選 Refresh 即可觀察檢視表是否被創造。"
   ]
  },
  {
   "cell_type": "markdown",
   "id": "47cfb764",
   "metadata": {
    "slideshow": {
     "slide_type": "subslide"
    }
   },
   "source": [
    "```sql\n",
    "USE imdb;\n",
    "CREATE VIEW avg_rating_by_release_year\n",
    "    AS\n",
    "SELECT release_year,\n",
    "       AVG(rating) AS avg_rating\n",
    "  FROM movies\n",
    " GROUP BY release_year;\n",
    "```"
   ]
  },
  {
   "cell_type": "markdown",
   "id": "57709658",
   "metadata": {
    "slideshow": {
     "slide_type": "subslide"
    }
   },
   "source": [
    "## 將檢視表命名放在 `FROM` 保留字之後來使用\n",
    "\n",
    "```sql\n",
    "SELECT *\n",
    "  FROM avg_rating_by_release_year\n",
    " WHERE avg_rating >= 8.5;\n",
    "```"
   ]
  },
  {
   "cell_type": "markdown",
   "id": "e1da25e8",
   "metadata": {
    "slideshow": {
     "slide_type": "subslide"
    }
   },
   "source": [
    "## 以 `DROP VIEW` 刪除檢視表\n",
    "\n",
    "```sql\n",
    "DROP VIEW IF EXISTS view_name;\n",
    "```\n",
    "\n",
    "執行之後可以在左側資料庫按右鍵下拉式選單點選 Refresh 即可觀察檢視表是否被刪除。"
   ]
  },
  {
   "cell_type": "markdown",
   "id": "022d6c93",
   "metadata": {
    "slideshow": {
     "slide_type": "subslide"
    }
   },
   "source": [
    "## 刪除檢視表之後，就無法在 `FROM` 保留字之後指定檢視表查詢。\n",
    "\n",
    "```sql\n",
    "USE imdb;\n",
    "DROP VIEW IF EXISTS avg_rating_by_release_year;\n",
    "SELECT *\n",
    "  FROM avg_rating_by_release_year\n",
    " WHERE avg_rating >= 8.5;\n",
    "```\n",
    "\n",
    "```\n",
    "Table 'imdb.avg_rating_by_release_year' doesn't exist\n",
    "```"
   ]
  },
  {
   "cell_type": "markdown",
   "id": "3a9ee637",
   "metadata": {
    "slideshow": {
     "slide_type": "subslide"
    }
   },
   "source": [
    "## 透過檢視表複習不同的關聯類型\n",
    "\n",
    "- `(INNER) JOIN` 保留兩個資料表的「交集」觀測值。\n",
    "- `LEFT JOIN` 保留左資料表的所有觀測值。\n",
    "- `RIGHT JOIN` 保留右資料表的所有觀測值。\n",
    "- `FULL JOIN` 保留兩個資料表的「聯集」觀測值。"
   ]
  },
  {
   "cell_type": "markdown",
   "id": "050d75ee",
   "metadata": {
    "slideshow": {
     "slide_type": "subslide"
    }
   },
   "source": [
    "## 建立一個左檢視表 `movies_shawshank_forrest`\n",
    "\n",
    "```sql\n",
    "USE imdb;\n",
    "CREATE VIEW movies_shashank_forrest AS\n",
    "SELECT *\n",
    "  FROM movies\n",
    " WHERE title IN ('The Shawshank Redemption', 'Forrest Gump');\n",
    "```"
   ]
  },
  {
   "cell_type": "markdown",
   "id": "d9582941",
   "metadata": {
    "slideshow": {
     "slide_type": "subslide"
    }
   },
   "source": [
    "## 建立一個右檢視表 `casting_shawshank_darkknight`\n",
    "\n",
    "```sql\n",
    "USE imdb;\n",
    "CREATE VIEW casting_shawshank_darkknight AS\n",
    "SELECT *\n",
    "  FROM casting\n",
    " WHERE movie_id IN (1, 3);\n",
    "```"
   ]
  },
  {
   "cell_type": "markdown",
   "id": "4416753c",
   "metadata": {
    "slideshow": {
     "slide_type": "subslide"
    }
   },
   "source": [
    "## `(INNER) JOIN` 保留兩個資料表的「交集」觀測值\n",
    "\n",
    "```\n",
    "('The Shawshank Redemption', 'Forrest Gump') & ('The Shawshank Redemption', 'The Dark Knight')\n",
    "=> ('The Shawshank Redemption')\n",
    "```\n",
    "\n",
    "```sql\n",
    "USE imdb;\n",
    "SELECT movies_shashank_forrest.title,\n",
    "       casting_shawshank_darkknight.actor_id\n",
    "  FROM movies_shashank_forrest\n",
    "  JOIN casting_shawshank_darkknight\n",
    "    ON movies_shashank_forrest.id = casting_shawshank_darkknight.movie_id;\n",
    "```"
   ]
  },
  {
   "cell_type": "markdown",
   "id": "66f96773",
   "metadata": {
    "slideshow": {
     "slide_type": "subslide"
    }
   },
   "source": [
    "## `LEFT JOIN` 保留左資料表的所有觀測值\n",
    "\n",
    "```\n",
    "('The Shawshank Redemption', 'Forrest Gump') + ('The Shawshank Redemption', 'The Dark Knight')\n",
    "=> ('The Shawshank Redemption', 'Forrest Gump')\n",
    "```\n",
    "\n",
    "```sql\n",
    "USE imdb;\n",
    "SELECT movies_shashank_forrest.title,\n",
    "       casting_shawshank_darkknight.actor_id\n",
    "  FROM movies_shashank_forrest\n",
    "  LEFT JOIN casting_shawshank_darkknight\n",
    "    ON movies_shashank_forrest.id = casting_shawshank_darkknight.movie_id;\n",
    "```"
   ]
  },
  {
   "cell_type": "markdown",
   "id": "8c0ceaba",
   "metadata": {
    "slideshow": {
     "slide_type": "subslide"
    }
   },
   "source": [
    "## `RIGHT JOIN` 保留右資料表的所有觀測值\n",
    "\n",
    "```\n",
    "('The Shawshank Redemption', 'The Dark Knight') + ('The Shawshank Redemption', 'Forrest Gump')\n",
    "=> ('The Shawshank Redemption', 'The Dark Knight')\n",
    "```\n",
    "\n",
    "```sql\n",
    "USE imdb;\n",
    "SELECT movies_shashank_forrest.title,\n",
    "       casting_shawshank_darkknight.actor_id\n",
    "  FROM movies_shashank_forrest\n",
    " RIGHT JOIN casting_shawshank_darkknight\n",
    "    ON movies_shashank_forrest.id = casting_shawshank_darkknight.movie_id;\n",
    "```"
   ]
  },
  {
   "cell_type": "markdown",
   "id": "1a95406d",
   "metadata": {
    "slideshow": {
     "slide_type": "subslide"
    }
   },
   "source": [
    "## `FULL JOIN` 保留兩個資料表的「聯集」觀測值\n",
    "\n",
    "```\n",
    "('The Shawshank Redemption', 'Forrest Gump') | ('The Shawshank Redemption', 'The Dark Knight')\n",
    "=> ('The Shawshank Redemption', 'Forrest Gump', 'The Dark Knight')\n",
    "```\n",
    "\n",
    "```sql\n",
    "USE imdb;\n",
    "SELECT movies_shashank_forrest.title,\n",
    "       casting_shawshank_darkknight.actor_id\n",
    "  FROM movies_shashank_forrest\n",
    "  LEFT JOIN casting_shawshank_darkknight\n",
    "    ON movies_shashank_forrest.id = casting_shawshank_darkknight.movie_id\n",
    " UNION\n",
    "SELECT movies_shashank_forrest.title,\n",
    "       casting_shawshank_darkknight.actor_id\n",
    "  FROM movies_shashank_forrest\n",
    " RIGHT JOIN casting_shawshank_darkknight\n",
    "    ON movies_shashank_forrest.id = casting_shawshank_darkknight.movie_id;\n",
    "```"
   ]
  }
 ],
 "metadata": {
  "celltoolbar": "Slideshow",
  "kernelspec": {
   "display_name": "xsql",
   "language": "sqlite",
   "name": "xsql"
  },
  "language_info": {
   "codemirror_mode": "sql",
   "file_extension": "",
   "mimetype": "",
   "name": "mysql",
   "version": "0.1.5"
  }
 },
 "nbformat": 4,
 "nbformat_minor": 5
}
