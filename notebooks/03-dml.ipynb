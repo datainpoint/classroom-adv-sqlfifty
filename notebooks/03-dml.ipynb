{
 "cells": [
  {
   "cell_type": "markdown",
   "id": "62be485e",
   "metadata": {
    "slideshow": {
     "slide_type": "slide"
    }
   },
   "source": [
    "# 進階的 SQL 五十道練習\n",
    "\n",
    "> 資料操作語言\n",
    "\n",
    "[數聚點](https://www.datainpoint.com) | 郭耀仁 <yaojenkuo@datainpoint.com>"
   ]
  },
  {
   "cell_type": "markdown",
   "id": "0a2425ca",
   "metadata": {
    "slideshow": {
     "slide_type": "subslide"
    }
   },
   "source": [
    "## SQL 的組成與分類（複習）\n",
    "\n",
    "- 具體來說，SQL 是由保留字（Keyword）、符號、常數與函數所組合而成的一種語言。\n",
    "- 依照使用目的進而區別 SQL 的分類：\n",
    "\n",
    "|SQL 的分類|範例|\n",
    "|:---------|:----|\n",
    "|資料查詢語言（Data Query Language, DQL）|`SELECT ...`|\n",
    "|資料定義語言（Data Definition Language, DDL）|`CREATE ...`|\n",
    "|資料操作語言（Data Manipulation Language, DML）|`UPDATE ...`|\n",
    "|資料控制語言（Data Control Language, DCL）|`GRANT ...`|\n",
    "|交易控制語言（Transaction Control Language, TCL）|`COMMIT ...`|"
   ]
  },
  {
   "cell_type": "markdown",
   "id": "926ddc16",
   "metadata": {
    "slideshow": {
     "slide_type": "subslide"
    }
   },
   "source": [
    "## 資料操作語言（Data Manipulation Language, DML）最主要的保留字\n",
    "\n",
    "- `INSERT`\n",
    "- `UPDATE`\n",
    "- `DELETE`\n",
    "\n",
    "這意味著我們可以在資料表中新增、更新與刪除資料。"
   ]
  },
  {
   "cell_type": "markdown",
   "id": "a15ba258",
   "metadata": {
    "slideshow": {
     "slide_type": "subslide"
    }
   },
   "source": [
    "## 有哪些資料表中的資料可以新增、更新與刪除\n",
    "\n",
    "觀測值（Observations）、列（Rows）或元組（Tuple）。"
   ]
  },
  {
   "cell_type": "markdown",
   "id": "c7993df2",
   "metadata": {
    "slideshow": {
     "slide_type": "slide"
    }
   },
   "source": [
    "## 新增資料"
   ]
  },
  {
   "cell_type": "markdown",
   "id": "38d0b18d",
   "metadata": {
    "slideshow": {
     "slide_type": "subslide"
    }
   },
   "source": [
    "## 以 `INSERT` 新增資料\n",
    "\n",
    "```sql\n",
    "INSERT INTO table_name VALUES\n",
    "    (column1, column2, ...),\n",
    "    (column1, column2, ...),\n",
    "    (column1, column2, ...);\n",
    "```"
   ]
  },
  {
   "cell_type": "markdown",
   "id": "cd4357a3",
   "metadata": {
    "slideshow": {
     "slide_type": "subslide"
    }
   },
   "source": [
    "```sql\n",
    "DROP DATABASE IF EXISTS ddl;\n",
    "CREATE DATABASE ddl;\n",
    "USE ddl;\n",
    "CREATE TABLE movies (\n",
    "    id INT,\n",
    "    title TEXT,\n",
    "    release_year YEAR,\n",
    "    rating FLOAT\n",
    ");\n",
    "INSERT INTO movies VALUES\n",
    "    (1, 'The Shawshank Redemption', 1994, 9.2),\n",
    "    (2, 'The Godfather', 1972, 9.2),\n",
    "    (3, 'The Dark Knight', 2008, 9.0);\n",
    "```"
   ]
  },
  {
   "cell_type": "markdown",
   "id": "669362d5",
   "metadata": {
    "slideshow": {
     "slide_type": "subslide"
    }
   },
   "source": [
    "## 創造資料表時指定的資料類型會影響新增資料是否能成功執行\n",
    "\n",
    "```sql\n",
    "INSERT INTO movies VALUES\n",
    "    (4, 1974, 'The Godfather Part II', 9.0);\n",
    "```\n",
    "\n",
    "```\n",
    "Incorrect integer value: 'The Godfather Part II' for column 'release_year' at row 1\n",
    "```"
   ]
  },
  {
   "cell_type": "markdown",
   "id": "b86d2bd2",
   "metadata": {
    "slideshow": {
     "slide_type": "subslide"
    }
   },
   "source": [
    "## 創造資料表時除了資料類型，亦可以指定限制（Constraints）\n",
    "\n",
    "```sql\n",
    "CREATE TABLE table_name (\n",
    "    column1 datatype constraints,\n",
    "    column2 datatype constraints,\n",
    "    column3 datatype constraints,\n",
    "    ....\n",
    ");\n",
    "```"
   ]
  },
  {
   "cell_type": "markdown",
   "id": "0f752112",
   "metadata": {
    "slideshow": {
     "slide_type": "subslide"
    }
   },
   "source": [
    "## MySQL 常見的限制（Constraints）\n",
    "\n",
    "- `DEFAULT`\n",
    "- `UNIQUE`\n",
    "- `NOT NULL`\n",
    "- `AUTO_INCREMENT`\n",
    "- `PRIMARY KEY`\n",
    "- `FOREIGN KEY`\n",
    "- `INDEX`"
   ]
  },
  {
   "cell_type": "markdown",
   "id": "9d09b8d9",
   "metadata": {
    "slideshow": {
     "slide_type": "subslide"
    }
   },
   "source": [
    "## 創造資料表時指定的限制也會影響新增資料是否能成功執行\n",
    "\n",
    "`rating` 沒有添加限制。\n",
    "\n",
    "```sql\n",
    "USE ddl;\n",
    "DROP TABLE IF EXISTS movies;\n",
    "CREATE TABLE movies (\n",
    "    id INT,\n",
    "    title TEXT,\n",
    "    release_year YEAR,\n",
    "    rating FLOAT\n",
    ");\n",
    "INSERT INTO movies (id, title, release_year) VALUES\n",
    "    (1, 'The Shawshank Redemption', 1994),\n",
    "    (2, 'The Godfather', 1972),\n",
    "    (3, 'The Dark Knight', 2008),\n",
    "    (3, 'The Godfather Part II', 1974);\n",
    "```"
   ]
  },
  {
   "cell_type": "markdown",
   "id": "97558939",
   "metadata": {
    "slideshow": {
     "slide_type": "subslide"
    }
   },
   "source": [
    "## 創造資料表時指定的限制也會影響新增資料是否能成功執行（續）\n",
    "\n",
    "`rating` 添加限制 `DEFAULT`\n",
    "\n",
    "```sql\n",
    "USE ddl;\n",
    "DROP TABLE IF EXISTS movies;\n",
    "CREATE TABLE movies (\n",
    "    id INT,\n",
    "    title TEXT,\n",
    "    release_year YEAR,\n",
    "    rating FLOAT DEFAULT 0\n",
    ");\n",
    "INSERT INTO movies (id, title, release_year) VALUES\n",
    "    (1, 'The Shawshank Redemption', 1994),\n",
    "    (2, 'The Godfather', 1972),\n",
    "    (3, 'The Dark Knight', 2008),\n",
    "    (3, 'The Godfather Part II', 1974);\n",
    "```"
   ]
  },
  {
   "cell_type": "markdown",
   "id": "8e7c1075",
   "metadata": {
    "slideshow": {
     "slide_type": "subslide"
    }
   },
   "source": [
    "## 創造資料表時指定的限制也會影響新增資料是否能成功執行（續）\n",
    "\n",
    "`id` 沒有添加限制。\n",
    "\n",
    "```sql\n",
    "USE ddl;\n",
    "DROP TABLE IF EXISTS movies;\n",
    "CREATE TABLE movies (\n",
    "    id INT,\n",
    "    title TEXT,\n",
    "    release_year INT,\n",
    "    rating FLOAT\n",
    ");\n",
    "INSERT INTO movies VALUES\n",
    "    (1, 'The Shawshank Redemption', 1994, 9.2),\n",
    "    (2, 'The Godfather', 1972, 9.2),\n",
    "    (3, 'The Dark Knight', 2008, 9.0),\n",
    "    (3, 'The Godfather Part II', 1974, 9.0);\n",
    "```"
   ]
  },
  {
   "cell_type": "markdown",
   "id": "2cecc721",
   "metadata": {
    "slideshow": {
     "slide_type": "subslide"
    }
   },
   "source": [
    "## 創造資料表時指定的限制也會影響新增資料是否能成功執行（續）\n",
    "\n",
    "`id` 添加限制 `UNIQUE`\n",
    "\n",
    "```sql\n",
    "USE ddl;\n",
    "DROP TABLE IF EXISTS movies;\n",
    "CREATE TABLE movies (\n",
    "    id INT UNIQUE,\n",
    "    title TEXT,\n",
    "    release_year YEAR,\n",
    "    rating FLOAT\n",
    ");\n",
    "INSERT INTO movies VALUES\n",
    "    (1, 'The Shawshank Redemption', 1994, 9.2),\n",
    "    (2, 'The Godfather', 1972, 9.2),\n",
    "    (3, 'The Dark Knight', 2008, 9.0),\n",
    "    (3, 'The Godfather Part II', 1974, 9.0);\n",
    "```\n",
    "\n",
    "```\n",
    "Duplicate entry '3' for key 'movies.id'\n",
    "```"
   ]
  },
  {
   "cell_type": "markdown",
   "id": "ff2b6a80",
   "metadata": {
    "slideshow": {
     "slide_type": "subslide"
    }
   },
   "source": [
    "## 創造資料表時指定的限制也會影響新增資料是否能成功執行（續）\n",
    "\n",
    "`id` 沒有添加限制。\n",
    "\n",
    "```sql\n",
    "USE ddl;\n",
    "DROP TABLE IF EXISTS movies;\n",
    "CREATE TABLE movies (\n",
    "    id INT,\n",
    "    title TEXT,\n",
    "    release_year YEAR,\n",
    "    rating FLOAT\n",
    ");\n",
    "INSERT INTO movies (title, release_year, rating) VALUES\n",
    "    ('The Shawshank Redemption', 1994, 9.2),\n",
    "    ('The Godfather', 1972, 9.2),\n",
    "    ('The Dark Knight', 2008, 9.0),\n",
    "    ('The Godfather Part II', 1974, 9.0);\n",
    "```"
   ]
  },
  {
   "cell_type": "markdown",
   "id": "db94e296",
   "metadata": {
    "slideshow": {
     "slide_type": "subslide"
    }
   },
   "source": [
    "## 創造資料表時指定的限制也會影響新增資料是否能成功執行（續）\n",
    "\n",
    "`id` 添加限制 `NOT NULL`\n",
    "\n",
    "```sql\n",
    "USE ddl;\n",
    "DROP TABLE IF EXISTS movies;\n",
    "CREATE TABLE movies (\n",
    "    id INT NOT NULL,\n",
    "    title TEXT,\n",
    "    release_year YEAR,\n",
    "    rating FLOAT\n",
    ");\n",
    "INSERT INTO movies (title, release_year, rating) VALUES\n",
    "    ('The Shawshank Redemption', 1994, 9.2),\n",
    "    ('The Godfather', 1972, 9.2),\n",
    "    ('The Dark Knight', 2008, 9.0),\n",
    "    ('The Godfather Part II', 1974, 9.0);\n",
    "```\n",
    "\n",
    "```\n",
    "Field 'id' doesn't have a default value\n",
    "```"
   ]
  },
  {
   "cell_type": "markdown",
   "id": "9f085331",
   "metadata": {
    "slideshow": {
     "slide_type": "subslide"
    }
   },
   "source": [
    "## 創造資料表時指定的限制也會影響新增資料是否能成功執行（續）\n",
    "\n",
    "- `id` 添加限制 `AUTO_INCREMENT` `PRIMARY_KEY`\n",
    "- `INSERT` 不需要輸入 `id` 資料。\n",
    "\n",
    "```sql\n",
    "USE ddl;\n",
    "DROP TABLE IF EXISTS movies;\n",
    "CREATE TABLE movies (\n",
    "    id INT AUTO_INCREMENT PRIMARY KEY,\n",
    "    title TEXT,\n",
    "    release_year YEAR,\n",
    "    rating FLOAT\n",
    ");\n",
    "INSERT INTO movies (title, release_year, rating) VALUES\n",
    "    ('The Shawshank Redemption', 1994, 9.2),\n",
    "    ('The Godfather', 1972, 9.2),\n",
    "    ('The Dark Knight', 2008, 9.0),\n",
    "    ('The Godfather Part II', 1974, 9.0);\n",
    "```"
   ]
  },
  {
   "cell_type": "markdown",
   "id": "3e529e4d",
   "metadata": {
    "slideshow": {
     "slide_type": "subslide"
    }
   },
   "source": [
    "## 難以從字面暸解意義的限制\n",
    "\n",
    "- `PRIMARY KEY`: 主鍵，無法儲存和其他紀錄重複的值、也無法儲存 `NULL` 的限制（`UNIQUE` 加上 `NOT NULL`）。\n",
    "- `FOREIGN KEY`: 外鍵，無法儲存指定關聯資料表沒有的值。\n",
    "- `INDEX`: 索引，能用來提升查詢資料的效率。"
   ]
  },
  {
   "cell_type": "markdown",
   "id": "bd3a619e",
   "metadata": {
    "slideshow": {
     "slide_type": "subslide"
    }
   },
   "source": [
    "## 以 `PRIMARY KEY (column)` 指定主鍵\n",
    "\n",
    "```sql\n",
    "USE ddl;\n",
    "DROP TABLE IF EXISTS movies;\n",
    "CREATE TABLE movies (\n",
    "    id INT,\n",
    "    title TEXT,\n",
    "    release_year YEAR,\n",
    "    rating FLOAT,\n",
    "    PRIMARY KEY (id)\n",
    ");\n",
    "```"
   ]
  },
  {
   "cell_type": "markdown",
   "id": "0ad048e6",
   "metadata": {
    "slideshow": {
     "slide_type": "subslide"
    }
   },
   "source": [
    "## 顯示主鍵\n",
    "\n",
    "```sql\n",
    "SHOW KEYS FROM movies WHERE Key_name = 'PRIMARY';\n",
    "```"
   ]
  },
  {
   "cell_type": "markdown",
   "id": "22c20459",
   "metadata": {
    "slideshow": {
     "slide_type": "subslide"
    }
   },
   "source": [
    "## 主鍵無法儲存和其他紀錄重複的值\n",
    "\n",
    "```sql\n",
    "INSERT INTO movies VALUES\n",
    "    (1, 'The Shawshank Redemption', 1994, 9.2),\n",
    "    (2, 'The Godfather', 1972, 9.2),\n",
    "    (3, 'The Dark Knight', 2008, 9.0),\n",
    "    (3, 'The Godfather Part II', 1974, 9.0);\n",
    "```\n",
    "\n",
    "```\n",
    "Duplicate entry '3' for key 'movies.PRIMARY'\n",
    "```"
   ]
  },
  {
   "cell_type": "markdown",
   "id": "0aeb702b",
   "metadata": {
    "slideshow": {
     "slide_type": "subslide"
    }
   },
   "source": [
    "## 以 `FOREIGN KEY (fk) REFERENCES parent_table (pk)` 指定外鍵與參照\n",
    "\n",
    "建立 `directors` 資料表作為父母資料表（Parent table）。\n",
    "\n",
    "```sql\n",
    "USE ddl;\n",
    "DROP TABLE IF EXISTS directors;\n",
    "CREATE TABLE directors (\n",
    "    id INT ,\n",
    "    name TEXT,\n",
    "    PRIMARY KEY (id)\n",
    ");\n",
    "INSERT INTO directors VALUES\n",
    "    (1, 'Frank Darabont'),\n",
    "    (2, 'Francis Ford Coppola'),\n",
    "    (3, 'Christopher Nolan');\n",
    "```"
   ]
  },
  {
   "cell_type": "markdown",
   "id": "2088921d",
   "metadata": {
    "slideshow": {
     "slide_type": "subslide"
    }
   },
   "source": [
    "## 以 `FOREIGN KEY (fk) REFERENCES parent_table (pk)` 指定外鍵與參照（續）\n",
    "\n",
    "建立 `movies` 資料表作為子女資料表（Child table）。\n",
    "\n",
    "```sql\n",
    "USE ddl;\n",
    "DROP TABLE IF EXISTS movies;\n",
    "CREATE TABLE movies (\n",
    "    id INT,\n",
    "    title TEXT,\n",
    "    release_year YEAR,\n",
    "    rating FLOAT,\n",
    "    director_id INT,\n",
    "    PRIMARY KEY (id),\n",
    "    FOREIGN KEY (director_id) REFERENCES directors (id)\n",
    ");\n",
    "INSERT INTO movies VALUES\n",
    "    (1, 'The Shawshank Redemption', 1994, 9.2, 1),\n",
    "    (2, 'The Godfather', 1972, 9.2, 2),\n",
    "    (3, 'The Dark Knight', 2008, 9.0, 3),\n",
    "    (4, 'The Godfather Part II', 1974, 9.0, 2);\n",
    "```"
   ]
  },
  {
   "cell_type": "markdown",
   "id": "06b60ee0",
   "metadata": {
    "slideshow": {
     "slide_type": "subslide"
    }
   },
   "source": [
    "## 顯示外鍵\n",
    "\n",
    "```sql\n",
    "SELECT TABLE_NAME,\n",
    "       COLUMN_NAME,\n",
    "       CONSTRAINT_NAME,\n",
    "       REFERENCED_TABLE_NAME,\n",
    "       REFERENCED_COLUMN_NAME\n",
    "  FROM INFORMATION_SCHEMA.KEY_COLUMN_USAGE\n",
    " WHERE REFERENCED_TABLE_SCHEMA = 'ddl' AND\n",
    "       REFERENCED_TABLE_NAME = 'directors';\n",
    "```"
   ]
  },
  {
   "cell_type": "markdown",
   "id": "428b232e",
   "metadata": {
    "slideshow": {
     "slide_type": "subslide"
    }
   },
   "source": [
    "## 指定外鍵以後，僅能儲存指定關聯資料表有的值\n",
    "\n",
    "```sql\n",
    "USE ddl;\n",
    "INSERT INTO movies VALUES\n",
    "    (5, 'Inception', 2010, 8.7, 3);\n",
    "```"
   ]
  },
  {
   "cell_type": "markdown",
   "id": "f99df634",
   "metadata": {
    "slideshow": {
     "slide_type": "subslide"
    }
   },
   "source": [
    "## 指定外鍵以後，無法儲存指定關聯資料表沒有的值\n",
    "\n",
    "```sql\n",
    "USE ddl;\n",
    "INSERT INTO movies VALUES\n",
    "    (6, 'Schindler\\'s List', 1993, 8.9, 4);\n",
    "```\n",
    "\n",
    "```\n",
    "Cannot add or update a child row: a foreign key constraint fails\n",
    "```"
   ]
  },
  {
   "cell_type": "markdown",
   "id": "ad2e67c9",
   "metadata": {
    "slideshow": {
     "slide_type": "subslide"
    }
   },
   "source": [
    "## `INDEX` 索引\n",
    "\n",
    "- 針對「獨一值」較多、常被使用者拿來「篩選」或者「排序」的欄位建立索引可以提升查詢效率。\n",
    "- 不建議對「獨一值」較少或者主鍵建立索引。\n",
    "\n",
    "```sql\n",
    "CREATE INDEX index_name ON table_name (column);\n",
    "```"
   ]
  },
  {
   "cell_type": "markdown",
   "id": "b628c565",
   "metadata": {
    "slideshow": {
     "slide_type": "subslide"
    }
   },
   "source": [
    "```sql\n",
    "USE ddl;\n",
    "DROP TABLE IF EXISTS movies;\n",
    "DROP TABLE IF EXISTS directors;\n",
    "CREATE TABLE movies (\n",
    "    id INT,\n",
    "    title TEXT,\n",
    "    release_year YEAR,\n",
    "    rating FLOAT,\n",
    "    PRIMARY KEY (id)\n",
    ");\n",
    "CREATE INDEX release_year_idx ON movies (release_year);\n",
    "CREATE INDEX rating_idx ON movies (rating);\n",
    "INSERT INTO movies VALUES\n",
    "    (1, 'The Shawshank Redemption', 1994, 9.2),\n",
    "    (2, 'The Godfather', 1972, 9.2),\n",
    "    (3, 'The Dark Knight', 2008, 9.0),\n",
    "    (4, 'The Godfather Part II', 1974, 9.0);\n",
    "```"
   ]
  },
  {
   "cell_type": "markdown",
   "id": "05d5746b",
   "metadata": {
    "slideshow": {
     "slide_type": "subslide"
    }
   },
   "source": [
    "## 顯示索引 \n",
    "\n",
    "```sql\n",
    "SHOW INDEX FROM movies;\n",
    "```"
   ]
  },
  {
   "cell_type": "markdown",
   "id": "ab9b0f86",
   "metadata": {
    "slideshow": {
     "slide_type": "slide"
    }
   },
   "source": [
    "## 更新資料"
   ]
  },
  {
   "cell_type": "markdown",
   "id": "d7e11328",
   "metadata": {
    "slideshow": {
     "slide_type": "subslide"
    }
   },
   "source": [
    "## 以 `UPDATE` 更新資料\n",
    "\n",
    "```sql\n",
    "UPDATE table_name\n",
    "   SET column1 = value1,\n",
    "       column2 = value2,\n",
    "       ...\n",
    " WHERE conditions;\n",
    "```"
   ]
  },
  {
   "cell_type": "markdown",
   "id": "08f0cccb",
   "metadata": {
    "slideshow": {
     "slide_type": "subslide"
    }
   },
   "source": [
    "## 新增資料時輸入錯誤\n",
    "\n",
    "```sql\n",
    "USE ddl;\n",
    "DROP TABLE IF EXISTS movies;\n",
    "CREATE TABLE movies (\n",
    "    id INT,\n",
    "    title TEXT,\n",
    "    release_year YEAR,\n",
    "    rating FLOAT,\n",
    "    PRIMARY KEY (id)\n",
    ");\n",
    "INSERT INTO movies VALUES\n",
    "    (1, 'The Shawshank Redemption', 1995, 9.2), -- wrong input of release_year\n",
    "    (2, 'The Godfather', 1972, 9.2),\n",
    "    (3, 'The Dark Knight', 2008, 9.0),\n",
    "    (4, 'The Godfather Part II', 1974, 9.0);\n",
    "```"
   ]
  },
  {
   "cell_type": "markdown",
   "id": "c52e7e81",
   "metadata": {
    "slideshow": {
     "slide_type": "subslide"
    }
   },
   "source": [
    "## 以 `UPDATE` 更新 `release_year` 的資料\n",
    "\n",
    "```sql\n",
    "USE ddl;\n",
    "UPDATE movies\n",
    "   SET release_year = 1994\n",
    " WHERE id = 1; -- flexible conditions\n",
    "```"
   ]
  },
  {
   "cell_type": "markdown",
   "id": "f8195d85",
   "metadata": {
    "slideshow": {
     "slide_type": "slide"
    }
   },
   "source": [
    "## 刪除資料"
   ]
  },
  {
   "cell_type": "markdown",
   "id": "d4069bd6",
   "metadata": {
    "slideshow": {
     "slide_type": "subslide"
    }
   },
   "source": [
    "## 以 `DELETE` 刪除資料表中特定的資料\n",
    "\n",
    "```sql\n",
    "DELETE FROM table_name\n",
    " WHERE conditions;\n",
    "```"
   ]
  },
  {
   "cell_type": "markdown",
   "id": "2c9c3b44",
   "metadata": {
    "slideshow": {
     "slide_type": "subslide"
    }
   },
   "source": [
    "```sql\n",
    "USE ddl;\n",
    "DROP TABLE IF EXISTS movies;\n",
    "CREATE TABLE movies (\n",
    "    id INT,\n",
    "    title TEXT,\n",
    "    release_year YEAR,\n",
    "    rating FLOAT,\n",
    "    PRIMARY KEY (id)\n",
    ");\n",
    "INSERT INTO movies VALUES\n",
    "    (1, 'The Shawshank Redemption', 1994, 9.2),\n",
    "    (2, 'The Godfather', 1972, 9.2),\n",
    "    (3, 'The Dark Knight', 2008, 9.0),\n",
    "    (4, 'The Godfather Part II', 1974, 9.0);\n",
    "DELETE FROM movies\n",
    " WHERE id = 4;\n",
    "```"
   ]
  },
  {
   "cell_type": "markdown",
   "id": "4e480e59",
   "metadata": {
    "slideshow": {
     "slide_type": "subslide"
    }
   },
   "source": [
    "## 如果沒有指定 `conditions` 會刪除資料表中的所有資料\n",
    "\n",
    "與資料定義語言（Data Definition Language, DDL）的 `TRUNCATE` 效果相同。\n",
    "\n",
    "```sql\n",
    "DELETE FROM table_name;\n",
    "```"
   ]
  },
  {
   "cell_type": "markdown",
   "id": "a859d178",
   "metadata": {
    "slideshow": {
     "slide_type": "subslide"
    }
   },
   "source": [
    "```sql\n",
    "USE ddl;\n",
    "DROP TABLE IF EXISTS movies;\n",
    "CREATE TABLE movies (\n",
    "    id INT,\n",
    "    title TEXT,\n",
    "    release_year YEAR,\n",
    "    rating FLOAT,\n",
    "    PRIMARY KEY (id)\n",
    ");\n",
    "INSERT INTO movies VALUES\n",
    "    (1, 'The Shawshank Redemption', 1994, 9.2),\n",
    "    (2, 'The Godfather', 1972, 9.2),\n",
    "    (3, 'The Dark Knight', 2008, 9.0),\n",
    "    (4, 'The Godfather Part II', 1974, 9.0);\n",
    "DELETE FROM movies;\n",
    "```"
   ]
  },
  {
   "cell_type": "markdown",
   "id": "63788b15",
   "metadata": {
    "slideshow": {
     "slide_type": "subslide"
    }
   },
   "source": [
    "## 沒有指定 `conditions` 的 `DELETE` 與 `TRUNCATE` 之差異\n",
    "\n",
    "- `DELETE` 屬於 DML 範疇；`TRUNCATE` 屬於 DDL 範疇。\n",
    "- `TRUNCATE` 結合了 `DROP` 與 `CREATE` 兩個 DDL 敘述，因此使用者具有權限等級更高。\n",
    "- `DELETE` 是一列一列刪除資料，因此效率上慢於 `TRUNCATE`"
   ]
  }
 ],
 "metadata": {
  "celltoolbar": "Slideshow",
  "kernelspec": {
   "display_name": "xsql",
   "language": "sqlite",
   "name": "xsql"
  },
  "language_info": {
   "codemirror_mode": "sql",
   "file_extension": "",
   "mimetype": "",
   "name": "mysql",
   "version": "0.1.5"
  }
 },
 "nbformat": 4,
 "nbformat_minor": 5
}
