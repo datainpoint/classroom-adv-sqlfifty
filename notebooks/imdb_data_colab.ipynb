{
 "cells": [
  {
   "cell_type": "code",
   "execution_count": null,
   "metadata": {
    "id": "jadTEy3W4zls"
   },
   "outputs": [],
   "source": [
    "!pip install -U BeautifulSoup4\n",
    "!pip install -U tqdm"
   ]
  },
  {
   "cell_type": "code",
   "execution_count": null,
   "metadata": {
    "id": "jadTEy3W4zls"
   },
   "outputs": [],
   "source": [
    "import sqlite3\n",
    "import numpy as np\n",
    "import pandas as pd\n",
    "import requests\n",
    "from lxml import etree\n",
    "from bs4 import BeautifulSoup\n",
    "from tqdm import tqdm\n",
    "from datetime import datetime"
   ]
  },
  {
   "cell_type": "code",
   "execution_count": null,
   "metadata": {
    "id": "4azjY4tH4zlu"
   },
   "outputs": [],
   "source": [
    "class IMDBScraper:\n",
    "    def __init__(self):\n",
    "        self.request_headers = {\n",
    "            'accept-language': \"en-US,en;q=1.0\",\n",
    "            'content-language': 'en-US',\n",
    "            'user-agent': 'user-agent: Mozilla/5.0 (Macintosh; Intel Mac OS X 10_15_7) AppleWebKit/537.36 (KHTML, like Gecko) Chrome/86.0.4240.183 Safari/537.36'\n",
    "        }\n",
    "    def get_top_rated(self):\n",
    "        response = requests.get('https://www.imdb.com/chart/top', headers=self.request_headers)\n",
    "        soup = BeautifulSoup(response.text, \"html.parser\")\n",
    "        movie_titles = [e.text for e in soup.select('.titleColumn a')]\n",
    "        movie_years = [int(e.text.replace('(', '').replace(')', '')) for e in soup.select('.secondaryInfo')]\n",
    "        movie_ratings = [float(e.text) for e in soup.select(\"strong\")]\n",
    "        top_rated_movies = pd.DataFrame()\n",
    "        top_rated_movies['id'] = range(1, len(movie_titles) + 1)\n",
    "        top_rated_movies['title'] = movie_titles\n",
    "        top_rated_movies['release_year'] = movie_years\n",
    "        top_rated_movies['rating'] = movie_ratings\n",
    "        movie_page_links = [e.get(\"href\") for e in soup.select('.titleColumn a')]\n",
    "        self.movie_titles = movie_titles\n",
    "        self.movie_page_links = movie_page_links\n",
    "        return top_rated_movies\n",
    "    def get_movie_info(self):\n",
    "        top_rated_movies = self.get_top_rated()\n",
    "        movie_ids = top_rated_movies['id'].values\n",
    "        movie_info = []\n",
    "        for mplink, mid, mtitle in tqdm(zip(self.movie_page_links, movie_ids, self.movie_titles)):\n",
    "            movie_page = f\"https://www.imdb.com{mplink}\"\n",
    "            response = requests.get(movie_page, headers=self.request_headers)\n",
    "            soup = BeautifulSoup(response.text, \"html.parser\")       \n",
    "            movie_time = soup.select(\"#__next > main > div > section.ipc-page-background.ipc-page-background--base > section > div:nth-child(4) > section > section > div > div > ul > li:nth-child(3)\")\n",
    "            if mtitle == \"Das Boot\":\n",
    "                movie_times_mins = 149\n",
    "            else:\n",
    "                movie_time = movie_time[0].text.split()\n",
    "                if len(movie_time) == 2:\n",
    "                    hours, mins = int(movie_time[0].replace(\"h\", \"\")), int(movie_time[1].replace(\"m\", \"\"))\n",
    "                    movie_time_mins = hours * 60 + mins\n",
    "                else:\n",
    "                    hours_mins = movie_time[0]\n",
    "                    if 'h' in hours_mins:\n",
    "                        hours = int(hours_mins.replace('h', ''))\n",
    "                        movie_time_mins = hours * 60\n",
    "                    elif 'm' in hours_mins:\n",
    "                        mins = int(hours_mins.replace('m', ''))\n",
    "                        movie_time_mins = mins\n",
    "            credits_page = f\"https://www.imdb.com{mplink}fullcredits\"\n",
    "            response = requests.get(credits_page, headers=self.request_headers)\n",
    "            soup = BeautifulSoup(response.text, \"html.parser\")\n",
    "            actors = [e.text.strip() for e in soup.select('.primary_photo+ td a')]\n",
    "            director = soup.select(\"#fullcredits_content > table:nth-child(2) > tbody > tr > td.name > a\")[0].text.strip()\n",
    "            if len(actors) > 15:\n",
    "                actors = actors[:15]\n",
    "            ords = list(range(1, len(actors) + 1))\n",
    "            movie_data = {\n",
    "                'id': mid,\n",
    "                'director': director,\n",
    "                'runtime': movie_time_mins,\n",
    "                'actor': actors,\n",
    "                'ord': ords\n",
    "            }\n",
    "            movie_info.append(movie_data)\n",
    "        self._movie_info = movie_info\n",
    "        return movie_info\n",
    "    def get_movies_directors(self):\n",
    "        top_rated = self.get_top_rated()\n",
    "        movie_info = self.get_movie_info()\n",
    "        movie_info_list = []\n",
    "        for item in movie_info:\n",
    "            movie_data = {\n",
    "                'id': item['id'],\n",
    "                'director': item['director'],\n",
    "                'runtime': item['runtime']\n",
    "            }\n",
    "            movie_info_list.append(movie_data)\n",
    "        movie_info_df = pd.DataFrame(movie_info_list)\n",
    "        top_rated_movies = pd.merge(top_rated, movie_info_df, left_on='id', right_on='id', how=\"left\")\n",
    "        unique_directors = top_rated_movies[\"director\"].unique()\n",
    "        ordered_directors = sorted(list(unique_directors))\n",
    "        ids = list(range(1, len(ordered_directors) + 1))\n",
    "        directors = pd.DataFrame()\n",
    "        directors[\"director_id\"] = ids\n",
    "        directors[\"name\"] = ordered_directors\n",
    "        top_rated_movies_directors = pd.merge(top_rated_movies, directors, how=\"left\", left_on=\"director\", right_on=\"name\")\n",
    "        top_rated_movies_selected = top_rated_movies_directors[['id', 'title', 'release_year', 'rating', 'runtime', 'director_id']]\n",
    "        directors.columns = [\"id\", \"name\"]\n",
    "        return top_rated_movies_selected, directors\n",
    "    def get_actors(self):\n",
    "        movie_info = self._movie_info\n",
    "        actors_list = []\n",
    "        for item in tqdm(movie_info):\n",
    "            actor = item['actor']\n",
    "            actors_list += actor\n",
    "        unique_actors = set(actors_list)\n",
    "        ordered_actors = sorted(list(unique_actors))\n",
    "        ids = list(range(1, len(ordered_actors) + 1))\n",
    "        actors = pd.DataFrame()\n",
    "        actors['id'] = ids\n",
    "        actors['name'] = ordered_actors\n",
    "        self._actors = actors\n",
    "        return actors\n",
    "    def get_casting(self):\n",
    "        movie_info = self._movie_info\n",
    "        actors = self._actors\n",
    "        casting = pd.DataFrame()\n",
    "        for item in tqdm(movie_info):\n",
    "            movie_id = item['id']\n",
    "            names = item['actor']\n",
    "            ords = item['ord']\n",
    "            df = pd.DataFrame()\n",
    "            df['actor_name'] = names\n",
    "            df['ord'] = ords\n",
    "            df['movie_id'] = movie_id\n",
    "            casting = pd.concat([casting, df])\n",
    "        nrows = casting.shape[0]\n",
    "        casting_ids = list(range(1, nrows + 1))\n",
    "        casting = casting.reset_index(drop=True)\n",
    "        casting[\"casting_id\"] = casting_ids\n",
    "        casting_merged = pd.merge(casting, actors, left_on='actor_name', right_on='name', how='left')\n",
    "        casting_selected = casting_merged[['casting_id', 'movie_id', 'id', 'ord']]\n",
    "        casting_selected.columns = ['id', 'movie_id', 'actor_id', 'ord']\n",
    "        return casting_selected"
   ]
  },
  {
   "cell_type": "code",
   "execution_count": null,
   "metadata": {
    "colab": {
     "base_uri": "https://localhost:8080/"
    },
    "id": "Y77Bb8Ug4zlu",
    "outputId": "b83bbc58-fb52-4191-ad9b-0186bee03f4b"
   },
   "outputs": [],
   "source": [
    "imdb_scraper = IMDBScraper()\n",
    "movies, directors = imdb_scraper.get_movies_directors()\n",
    "actors = imdb_scraper.get_actors()\n",
    "casting = imdb_scraper.get_casting()"
   ]
  },
  {
   "cell_type": "code",
   "execution_count": null,
   "metadata": {
    "colab": {
     "base_uri": "https://localhost:8080/",
     "height": 302
    },
    "id": "ZOIwJW5aE5H8",
    "outputId": "0897d594-0867-4af7-c333-fd54266c375c"
   },
   "outputs": [],
   "source": [
    "top_rated_movies.head()"
   ]
  },
  {
   "cell_type": "code",
   "execution_count": null,
   "metadata": {},
   "outputs": [],
   "source": [
    "directors.head()"
   ]
  },
  {
   "cell_type": "code",
   "execution_count": null,
   "metadata": {
    "colab": {
     "base_uri": "https://localhost:8080/",
     "height": 206
    },
    "id": "wcFHBmnUFB7s",
    "outputId": "7b6788f8-8f32-4d70-80dd-54bc18a054f3"
   },
   "outputs": [],
   "source": [
    "actors.head()"
   ]
  },
  {
   "cell_type": "code",
   "execution_count": null,
   "metadata": {
    "colab": {
     "base_uri": "https://localhost:8080/",
     "height": 206
    },
    "id": "37g9s0kjFE6m",
    "outputId": "52af5038-e1fc-46cf-b7ac-ba23b925e770"
   },
   "outputs": [],
   "source": [
    "casting.head()"
   ]
  },
  {
   "cell_type": "code",
   "execution_count": null,
   "metadata": {
    "id": "ZfMD7mKc0i6f"
   },
   "outputs": [],
   "source": [
    "top_rated_movies.to_csv('movies.csv', index=False)\n",
    "directors.to_csv('directors.csv', index=False)\n",
    "actors.to_csv('actors.csv', index=False)\n",
    "casting.to_csv('casting.csv', index=False)"
   ]
  },
  {
   "cell_type": "code",
   "execution_count": null,
   "metadata": {
    "id": "ZfMD7mKc0i6f"
   },
   "outputs": [],
   "source": [
    "con = sqlite3.connect('imdb.db')\n",
    "top_rated_movies.to_sql('movies', con, index=False)\n",
    "directors.to_sql('directors', con, index=False)\n",
    "actors.to_sql('actors', con, index=False)\n",
    "casting.to_sql('casting', con, index=False)\n",
    "cur = con.cursor()"
   ]
  },
  {
   "cell_type": "code",
   "execution_count": null,
   "metadata": {
    "id": "iT2TM750DjQd"
   },
   "outputs": [],
   "source": [
    "create_movies = \"\"\"\n",
    "PRAGMA foreign_keys=off;\n",
    "BEGIN TRANSACTION;\n",
    "ALTER TABLE movies RENAME TO movies_no_keys;\n",
    "CREATE TABLE movies (\n",
    "    id INTEGER,\n",
    "    title TEXT,\n",
    "    release_year INTEGER,\n",
    "    rating REAL,\n",
    "    runtime INTEGER,\n",
    "    director_id INTEGER,\n",
    "    PRIMARY KEY (id)\n",
    ");\n",
    "INSERT INTO movies SELECT * FROM movies_no_keys;\n",
    "COMMIT;\n",
    "PRAGMA foreign_keys=on;\n",
    "\"\"\"\n",
    "cur.executescript(create_movies)\n",
    "con.commit()"
   ]
  },
  {
   "cell_type": "code",
   "execution_count": null,
   "metadata": {
    "id": "iT2TM750DjQd"
   },
   "outputs": [],
   "source": [
    "create_directors = \"\"\"\n",
    "PRAGMA foreign_keys=off;\n",
    "BEGIN TRANSACTION;\n",
    "ALTER TABLE directors RENAME TO directors_no_keys;\n",
    "CREATE TABLE directors (\n",
    "    id INTEGER,\n",
    "    name TEXT,\n",
    "    PRIMARY KEY (id),\n",
    "    FOREIGN KEY (id) REFERENCES movies (director_id) \n",
    "            ON DELETE CASCADE ON UPDATE NO ACTION\n",
    ");\n",
    "INSERT INTO directors SELECT * FROM directors_no_keys;\n",
    "COMMIT;\n",
    "PRAGMA foreign_keys=on;\n",
    "\"\"\"\n",
    "cur.executescript(create_directors)\n",
    "con.commit()"
   ]
  },
  {
   "cell_type": "code",
   "execution_count": null,
   "metadata": {
    "id": "gwdwxeaKD93u"
   },
   "outputs": [],
   "source": [
    "create_actors = \"\"\"\n",
    "PRAGMA foreign_keys=off;\n",
    "BEGIN TRANSACTION;\n",
    "ALTER TABLE actors RENAME TO actors_no_keys;\n",
    "CREATE TABLE actors (\n",
    "    id INTEGER,\n",
    "    name TEXT,\n",
    "    PRIMARY KEY (id)\n",
    ");\n",
    "INSERT INTO actors SELECT * FROM actors_no_keys;\n",
    "COMMIT;\n",
    "PRAGMA foreign_keys=on;\n",
    "\"\"\"\n",
    "cur.executescript(create_actors)\n",
    "con.commit()"
   ]
  },
  {
   "cell_type": "code",
   "execution_count": null,
   "metadata": {
    "id": "kn6WR1wKER-f"
   },
   "outputs": [],
   "source": [
    "create_casting = \"\"\"\n",
    "PRAGMA foreign_keys=off;\n",
    "BEGIN TRANSACTION;\n",
    "ALTER TABLE casting RENAME TO casting_no_keys;\n",
    "CREATE TABLE casting (\n",
    "    id INTEGER,\n",
    "    movie_id INTEGER,\n",
    "    actor_id INTEGER,\n",
    "    ord INTEGER,\n",
    "    PRIMARY KEY (id)\n",
    "    FOREIGN KEY (movie_id) REFERENCES movies (id) \n",
    "            ON DELETE CASCADE ON UPDATE NO ACTION\n",
    "    FOREIGN KEY (actor_id) REFERENCES actors (id) \n",
    "            ON DELETE CASCADE ON UPDATE NO ACTION\n",
    ");\n",
    "INSERT INTO casting SELECT * FROM casting_no_keys;\n",
    "COMMIT;\n",
    "PRAGMA foreign_keys=on;\n",
    "\"\"\"\n",
    "cur.executescript(create_casting)\n",
    "con.commit()"
   ]
  },
  {
   "cell_type": "code",
   "execution_count": null,
   "metadata": {
    "id": "21GntKklOgRF"
   },
   "outputs": [],
   "source": [
    "drop_tables = \"\"\"\n",
    "DROP TABLE movies_no_keys;\n",
    "DROP TABLE directors_no_keys;\n",
    "DROP TABLE actors_no_keys;\n",
    "DROP TABLE casting_no_keys;\n",
    "\"\"\"\n",
    "cur.executescript(drop_tables)\n",
    "con.commit()"
   ]
  }
 ],
 "metadata": {
  "colab": {
   "name": "get_imdb_data.ipynb",
   "provenance": []
  },
  "kernelspec": {
   "display_name": "Python 3 (ipykernel)",
   "language": "python",
   "name": "python3"
  },
  "language_info": {
   "codemirror_mode": {
    "name": "ipython",
    "version": 3
   },
   "file_extension": ".py",
   "mimetype": "text/x-python",
   "name": "python",
   "nbconvert_exporter": "python",
   "pygments_lexer": "ipython3",
   "version": "3.10.6"
  }
 },
 "nbformat": 4,
 "nbformat_minor": 1
}
