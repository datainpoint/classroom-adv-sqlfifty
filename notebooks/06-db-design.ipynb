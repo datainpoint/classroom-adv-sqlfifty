{
 "cells": [
  {
   "cell_type": "markdown",
   "id": "lightweight-fruit",
   "metadata": {
    "slideshow": {
     "slide_type": "slide"
    }
   },
   "source": [
    "# 進階的 SQL 五十道練習\n",
    "\n",
    "> 資料庫結構與資料表設計\n",
    "\n",
    "[數聚點](https://www.datainpoint.com) | 郭耀仁 <yaojenkuo@datainpoint.com>"
   ]
  },
  {
   "cell_type": "code",
   "execution_count": 1,
   "id": "6d8c651d",
   "metadata": {
    "slideshow": {
     "slide_type": "subslide"
    }
   },
   "outputs": [],
   "source": [
    "import requests\n",
    "import pandas as pd"
   ]
  },
  {
   "cell_type": "markdown",
   "id": "87b410ed",
   "metadata": {
    "slideshow": {
     "slide_type": "slide"
    }
   },
   "source": [
    "## 資料庫結構"
   ]
  },
  {
   "cell_type": "markdown",
   "id": "044ad73a",
   "metadata": {
    "slideshow": {
     "slide_type": "subslide"
    }
   },
   "source": [
    "## 多元的資料儲存模式\n",
    "\n",
    "- **關聯式（Relational model）**\n",
    "- NoSQL(Not Only SQL)\n",
    "    - 網路式（Network model）\n",
    "    - 鍵值式（Key-value pair model）\n",
    "    - 欄導向式（Column-based model）\n",
    "    - 文件式（Document model）"
   ]
  },
  {
   "cell_type": "markdown",
   "id": "8c0cfb13",
   "metadata": {
    "slideshow": {
     "slide_type": "subslide"
    }
   },
   "source": [
    "## 主流具代表性的資料庫管理系統均為關聯式\n",
    "\n",
    "- 開源\n",
    "    - MySQL\n",
    "    - MariaDB\n",
    "    - PostgreSQL\n",
    "    - SQLite\n",
    "- 商業授權\n",
    "    - Oracle Database\n",
    "    - Microsoft SQL Server\n",
    "    - IBM DB2"
   ]
  },
  {
   "cell_type": "markdown",
   "id": "84ae1159",
   "metadata": {
    "slideshow": {
     "slide_type": "subslide"
    }
   },
   "source": [
    "## 關聯式的優點\n",
    "\n",
    "- 以「表格」形式的資料表儲存。\n",
    "- 可以事先對資料設定儲存規則（包含資料類型、限制），防止不符規定的資料被記錄。\n",
    "- 以多個資料表建立關聯可以避免相同資料分散多處，有效降低資料更新成本。\n",
    "- 資料格式容易保持整潔、有條理的狀態。"
   ]
  },
  {
   "cell_type": "markdown",
   "id": "420a48cf",
   "metadata": {
    "slideshow": {
     "slide_type": "subslide"
    }
   },
   "source": [
    "## 關聯式的缺點\n",
    "\n",
    "- 資料量龐大時處理速度會變得緩慢。\n",
    "- 由於嚴格要求資料的一致性，不容易將資料分散儲存。\n",
    "- 「表格」形式的資料表較難呈現某些類型的資料（例如 XML、JSON、地理圖資等）。"
   ]
  },
  {
   "cell_type": "markdown",
   "id": "bc95a908",
   "metadata": {
    "slideshow": {
     "slide_type": "slide"
    }
   },
   "source": [
    "## 資料表設計"
   ]
  },
  {
   "cell_type": "markdown",
   "id": "fe1272ce",
   "metadata": {
    "slideshow": {
     "slide_type": "subslide"
    }
   },
   "source": [
    "## 漸進式地思考資料表如何設計\n",
    "\n",
    "1. 概念模式。\n",
    "2. 邏輯模式。\n",
    "3. 實體模式。"
   ]
  },
  {
   "cell_type": "markdown",
   "id": "21cc114c",
   "metadata": {
    "slideshow": {
     "slide_type": "subslide"
    }
   },
   "source": [
    "## 概念模式：描述概念\n",
    "\n",
    "- 電影。\n",
    "- 導演。\n",
    "- 演員。\n",
    "\n",
    "來源：<https://www.imdb.com/chart/top>"
   ]
  },
  {
   "cell_type": "markdown",
   "id": "8255733e",
   "metadata": {
    "slideshow": {
     "slide_type": "subslide"
    }
   },
   "source": [
    "## 邏輯模式：加入關聯性（Cardinality）\n",
    "\n",
    "- 電影 vs. 導演（多對一）。\n",
    "- 演員 vs. 電影（多對多）。\n",
    "\n",
    "來源：<https://www.imdb.com/chart/top>"
   ]
  },
  {
   "cell_type": "markdown",
   "id": "64c66f4d",
   "metadata": {
    "slideshow": {
     "slide_type": "subslide"
    }
   },
   "source": [
    "## 關聯性的種類\n",
    "\n",
    "- 一對一：`movies.id` vs. `movies.title`、`actors.id` vs. `actors.name`\n",
    "- 一對多：`directors.name` vs. `movies.title`\n",
    "- 多對多：`movies.title` vs. `actors.name`"
   ]
  },
  {
   "cell_type": "markdown",
   "id": "debfb537",
   "metadata": {
    "slideshow": {
     "slide_type": "subslide"
    }
   },
   "source": [
    "## 實體模式：加入關聯性、欄位、資料類型\n",
    "\n",
    "- `movies`: `id(INT)`, `title(TEXT)`, `director_id(INT)`...etc.\n",
    "- `directors`: `id(INT)`, `name(TEXT)`\n",
    "- `actors`: `id(INT)`, `name(TEXT)`\n",
    "- `casting`: `movie_id(INT)`, `actor_id(INT)`, `ord(INT)`\n",
    "\n",
    "來源：<https://www.imdb.com/chart/top>"
   ]
  },
  {
   "cell_type": "markdown",
   "id": "347c6d34",
   "metadata": {
    "slideshow": {
     "slide_type": "subslide"
    }
   },
   "source": [
    "## 實體模式考量儲存的資料以及細節\n",
    "\n",
    "- 進入到實體模式之後，會開始考量實體（Entity）與其屬性（Attribute）。\n",
    "    - 實體是具有關聯的資料集合，也就是人、物品或者紀錄。\n",
    "    - 屬性是用來將實體更詳細描述的內容，也就是人名、物品名稱或者紀錄數量（金額）。"
   ]
  },
  {
   "cell_type": "markdown",
   "id": "0ce954b0",
   "metadata": {
    "slideshow": {
     "slide_type": "subslide"
    }
   },
   "source": [
    "## 實體（Entity）、屬性（Attribute）與鍵（Key）等其實只是「換句話說」\n",
    "\n",
    "- 關聯（Relation）、實體（Entity）：資料表（Table）\n",
    "- 元組（Tuple）：列（Row）、觀測值（Observation）或記錄（Record）\n",
    "- 屬性（Attribute）：欄（Column）、變數（Variable）、鍵（Key）或欄位（Field）"
   ]
  },
  {
   "cell_type": "markdown",
   "id": "847d3c15",
   "metadata": {
    "slideshow": {
     "slide_type": "subslide"
    }
   },
   "source": [
    "## 什麼是實體關係圖（Entity Relationship Diagram, ER-Diagram）\n",
    "\n",
    "- 實體關係圖會將關聯式資料庫中每個資料表像清單般展開，最上方是該資料表名稱。\n",
    "- 置頂且粗體的欄位名稱則標註了該資料表中用來區隔「不重複」觀測值的變數，也就是所謂的主鍵（Primary Key）。\n",
    "- 資料表與資料表之間的連線則描述兩者能夠透過連接鍵關聯，連線兩側的圖示則表示資料的關聯性（Cardinality）。"
   ]
  },
  {
   "cell_type": "markdown",
   "id": "ca342827",
   "metadata": {
    "slideshow": {
     "slide_type": "subslide"
    }
   },
   "source": [
    "## 表示資料關聯性的圖示\n",
    "\n",
    "![](../images/cardinality.png)"
   ]
  },
  {
   "cell_type": "markdown",
   "id": "543f10a2",
   "metadata": {
    "slideshow": {
     "slide_type": "subslide"
    }
   },
   "source": [
    "## 將資料調整為易於管理的結構：正規化\n",
    "\n",
    "- 透過「正規化」進行資料調整。\n",
    "- 正規化的優點：\n",
    "    - 減少資料重複的情況、減少佔用的磁碟空間。\n",
    "    - 資料的維護更為輕鬆，減少更新範圍與遺漏。\n",
    "    - 資料更容易與其他系統搭配應用。"
   ]
  },
  {
   "cell_type": "markdown",
   "id": "8c8c13ee",
   "metadata": {
    "slideshow": {
     "slide_type": "subslide"
    }
   },
   "source": [
    "## 正規化的三個形式\n",
    "\n",
    "1. 第一正規化形式。\n",
    "2. 第二正規化形式。\n",
    "3. 第三正規化形式。"
   ]
  },
  {
   "cell_type": "markdown",
   "id": "0712d9e3",
   "metadata": {
    "slideshow": {
     "slide_type": "subslide"
    }
   },
   "source": [
    "## 第一正規化形式：設定主鍵\n",
    "\n",
    "- 每一列都是獨立且獨一的觀測值。\n",
    "- 每一欄都是獨立的變數。\n",
    "- 每一個儲存格都是獨立的資料值。"
   ]
  },
  {
   "cell_type": "markdown",
   "id": "ddbf6709",
   "metadata": {
    "slideshow": {
     "slide_type": "subslide"
    }
   },
   "source": [
    "## 第一正規化形式：以 `imdb` 為例\n",
    "\n",
    "- `Rank & Title` 一個欄位之中包含了 `id`、`title` 與 `release_year` 的資訊。\n",
    "- 除了 `Rank & Title` 以及 `IMDb Rating` 其他的資料都是未定義值或無意義。"
   ]
  },
  {
   "cell_type": "code",
   "execution_count": 2,
   "id": "59804e7d",
   "metadata": {},
   "outputs": [
    {
     "data": {
      "text/html": [
       "<div>\n",
       "<style scoped>\n",
       "    .dataframe tbody tr th:only-of-type {\n",
       "        vertical-align: middle;\n",
       "    }\n",
       "\n",
       "    .dataframe tbody tr th {\n",
       "        vertical-align: top;\n",
       "    }\n",
       "\n",
       "    .dataframe thead th {\n",
       "        text-align: right;\n",
       "    }\n",
       "</style>\n",
       "<table border=\"1\" class=\"dataframe\">\n",
       "  <thead>\n",
       "    <tr style=\"text-align: right;\">\n",
       "      <th></th>\n",
       "      <th>Unnamed: 0</th>\n",
       "      <th>Rank &amp; Title</th>\n",
       "      <th>IMDb Rating</th>\n",
       "      <th>Your Rating</th>\n",
       "      <th>Unnamed: 4</th>\n",
       "    </tr>\n",
       "  </thead>\n",
       "  <tbody>\n",
       "    <tr>\n",
       "      <th>0</th>\n",
       "      <td>NaN</td>\n",
       "      <td>1.  The Shawshank Redemption  (1994)</td>\n",
       "      <td>9.2</td>\n",
       "      <td>12345678910 NOT YET RELEASED  Seen</td>\n",
       "      <td>NaN</td>\n",
       "    </tr>\n",
       "    <tr>\n",
       "      <th>1</th>\n",
       "      <td>NaN</td>\n",
       "      <td>2.  The Godfather  (1972)</td>\n",
       "      <td>9.2</td>\n",
       "      <td>12345678910 NOT YET RELEASED  Seen</td>\n",
       "      <td>NaN</td>\n",
       "    </tr>\n",
       "    <tr>\n",
       "      <th>2</th>\n",
       "      <td>NaN</td>\n",
       "      <td>3.  The Dark Knight  (2008)</td>\n",
       "      <td>9.0</td>\n",
       "      <td>12345678910 NOT YET RELEASED  Seen</td>\n",
       "      <td>NaN</td>\n",
       "    </tr>\n",
       "    <tr>\n",
       "      <th>3</th>\n",
       "      <td>NaN</td>\n",
       "      <td>4.  The Godfather Part II  (1974)</td>\n",
       "      <td>9.0</td>\n",
       "      <td>12345678910 NOT YET RELEASED  Seen</td>\n",
       "      <td>NaN</td>\n",
       "    </tr>\n",
       "    <tr>\n",
       "      <th>4</th>\n",
       "      <td>NaN</td>\n",
       "      <td>5.  12 Angry Men  (1957)</td>\n",
       "      <td>9.0</td>\n",
       "      <td>12345678910 NOT YET RELEASED  Seen</td>\n",
       "      <td>NaN</td>\n",
       "    </tr>\n",
       "  </tbody>\n",
       "</table>\n",
       "</div>"
      ],
      "text/plain": [
       "   Unnamed: 0                          Rank & Title  IMDb Rating  \\\n",
       "0         NaN  1.  The Shawshank Redemption  (1994)          9.2   \n",
       "1         NaN             2.  The Godfather  (1972)          9.2   \n",
       "2         NaN           3.  The Dark Knight  (2008)          9.0   \n",
       "3         NaN     4.  The Godfather Part II  (1974)          9.0   \n",
       "4         NaN              5.  12 Angry Men  (1957)          9.0   \n",
       "\n",
       "                          Your Rating  Unnamed: 4  \n",
       "0  12345678910 NOT YET RELEASED  Seen         NaN  \n",
       "1  12345678910 NOT YET RELEASED  Seen         NaN  \n",
       "2  12345678910 NOT YET RELEASED  Seen         NaN  \n",
       "3  12345678910 NOT YET RELEASED  Seen         NaN  \n",
       "4  12345678910 NOT YET RELEASED  Seen         NaN  "
      ]
     },
     "execution_count": 2,
     "metadata": {},
     "output_type": "execute_result"
    }
   ],
   "source": [
    "resp = requests.get(\"https://www.imdb.com/chart/top\", headers={\"accept-language\": \"en,en-US;q=1.0\"})\n",
    "df = pd.read_html(resp.text)[0]\n",
    "df.head()"
   ]
  },
  {
   "cell_type": "markdown",
   "id": "45a58f79",
   "metadata": {
    "slideshow": {
     "slide_type": "subslide"
    }
   },
   "source": [
    "## 第二正規化形式：設定外鍵\n",
    "\n",
    "- 從基於第一正規化形式的資料再著手進行調整。\n",
    "- 將不同種類的資料切割至不同的資料表。"
   ]
  },
  {
   "cell_type": "markdown",
   "id": "c66aebfd",
   "metadata": {
    "slideshow": {
     "slide_type": "subslide"
    }
   },
   "source": [
    "## 第二正規化形式：以 `imdb` 為例\n",
    "\n",
    "- 與 IMDb Top 250 電影相關的資料\n",
    "    - `actors`\n",
    "    - `directors`\n",
    "    - `movies`"
   ]
  },
  {
   "cell_type": "markdown",
   "id": "9b182d54",
   "metadata": {
    "slideshow": {
     "slide_type": "subslide"
    }
   },
   "source": [
    "## 第三正規化形式：設定對應資料表\n",
    "\n",
    "- 從基於第二正規化形式的資料再著手進行調整。\n",
    "- 將具有「附屬」關係的資料切割。"
   ]
  },
  {
   "cell_type": "markdown",
   "id": "f930741b",
   "metadata": {
    "slideshow": {
     "slide_type": "subslide"
    }
   },
   "source": [
    "## 第三正規化形式：以 `imdb` 為例\n",
    "\n",
    "- 建立 `casting` 資料表作為 `actors` 與 `movies` 的橋接資料表。\n",
    "- 討論是否建立下列的對應資料表：\n",
    "    - `ratings` 作為評價的對應資料表。\n",
    "    - `release_years` 作為上映年份的對應資料表。\n",
    "    - `release_dates` 作為上映日期的對應資料表。"
   ]
  },
  {
   "cell_type": "markdown",
   "id": "87dda7ea",
   "metadata": {
    "slideshow": {
     "slide_type": "subslide"
    }
   },
   "source": [
    "## 正規化之後決定欄位設定\n",
    "\n",
    "- 設定資料類型：數值、文字或日期。\n",
    "- 限制：是否有預設值、是否允許空值 `NULL`、是否允許重複資料、是否需要自動產生連續整數編號、是否設定主鍵與外鍵。"
   ]
  },
  {
   "cell_type": "markdown",
   "id": "70d4f4ea",
   "metadata": {
    "slideshow": {
     "slide_type": "subslide"
    }
   },
   "source": [
    "## 資料表與欄位名稱命名準則\n",
    "\n",
    "- 資料表、欄位名稱僅使用「半形英數字與底線」。\n",
    "- 使用全小寫，第一個字元不使用數字。\n",
    "- 資料表名稱取為複數（Plural）型態。\n",
    "    - `imdb.actors`\n",
    "    - `imdb.casting`\n",
    "    - `imdb.directors`\n",
    "    - `imdb.movies`"
   ]
  },
  {
   "cell_type": "markdown",
   "id": "8e9f1529",
   "metadata": {
    "slideshow": {
     "slide_type": "subslide"
    }
   },
   "source": [
    "## 資料表與欄位名稱命名準則（續）\n",
    "\n",
    "- 使用對外人也簡單易懂的名稱（避免使用縮寫）。\n",
    "- 使用從欄位名稱就能看出所儲存資料命名。\n",
    "- 用來連接父母資料表主鍵的欄位命名為「資料表名稱單數型態（Singular）\\_id」。\n",
    "    - `imdb.casting.actor_id`\n",
    "    - `imdb.casting.movie_id`\n",
    "    - `imdb.movies.director_id`"
   ]
  },
  {
   "cell_type": "markdown",
   "id": "5c6a8f01",
   "metadata": {
    "slideshow": {
     "slide_type": "slide"
    }
   },
   "source": [
    "## 從零到一製作 `imdb` 學習資料庫"
   ]
  },
  {
   "cell_type": "markdown",
   "id": "95807b79",
   "metadata": {
    "slideshow": {
     "slide_type": "subslide"
    }
   },
   "source": [
    "## 使用 Python 擷取網頁資料\n",
    "\n",
    "- [imdb_data_colab.ipynb](https://github.com/datainpoint/classroom-adv-sqlfifty/blob/main/notebooks/imdb_data_colab.ipynb)\n",
    "- 將輸出的 CSV 檔案下載到本機。\n",
    "- 將輸出的 CSV 檔案匯入 MySQL。"
   ]
  },
  {
   "cell_type": "markdown",
   "id": "9d6f1ce5",
   "metadata": {
    "slideshow": {
     "slide_type": "subslide"
    }
   },
   "source": [
    "## 使用資料操作語言與交易控制語言更新限制\n",
    "\n",
    "```sql\n",
    "START TRANSACTION;\n",
    "ALTER TABLE actors ADD CONSTRAINT PRIMARY KEY (id);\n",
    "ALTER TABLE directors ADD CONSTRAINT PRIMARY KEY (id);\n",
    "ALTER TABLE casting ADD CONSTRAINT PRIMARY KEY (id);\n",
    "ALTER TABLE movies ADD CONSTRAINT PRIMARY KEY (id);\n",
    "COMMIT;\n",
    "```"
   ]
  },
  {
   "cell_type": "markdown",
   "id": "21fff59b",
   "metadata": {
    "slideshow": {
     "slide_type": "subslide"
    }
   },
   "source": [
    "## 使用資料操作語言與交易控制語言更新限制（續）\n",
    "\n",
    "```sql\n",
    "START TRANSACTION;\n",
    "ALTER TABLE casting ADD CONSTRAINT FOREIGN KEY (actor_id) REFERENCES actors (id);\n",
    "ALTER TABLE casting ADD CONSTRAINT FOREIGN KEY (movie_id) REFERENCES movies (id);\n",
    "ALTER TABLE movies ADD CONSTRAINT FOREIGN KEY (director_id) REFERENCES directors (id);\n",
    "COMMIT;\n",
    "```"
   ]
  },
  {
   "cell_type": "markdown",
   "id": "9c5a505f",
   "metadata": {
    "slideshow": {
     "slide_type": "subslide"
    }
   },
   "source": [
    "## 檢視與匯出實體關係圖：透過 DBeaver\n",
    "\n",
    "- Projects > ER Diagrams > Create New ER Diagram.\n",
    "- 選擇欲檢視與匯出實體關係圖的資料庫。\n",
    "- 給予實體關係圖一個檔案名稱。\n",
    "\n",
    "![](../images/imdb_erd.png)"
   ]
  },
  {
   "cell_type": "markdown",
   "id": "b43b7ec6",
   "metadata": {
    "slideshow": {
     "slide_type": "subslide"
    }
   },
   "source": [
    "## 檢視與匯出實體關係圖：透過 MySQL Workbench\n",
    "\n",
    "- 透過 MySQL Workbench 建立與本機 MySQL Server 的連線。\n",
    "- Database > Reverse Engineer...\n",
    "- 選擇欲檢視與匯出實體關係圖的資料庫。\n",
    "\n",
    "![](../images/imdb_erd_mysqlworkbench.png)"
   ]
  }
 ],
 "metadata": {
  "celltoolbar": "Slideshow",
  "kernelspec": {
   "display_name": "Python 3 (ipykernel)",
   "language": "python",
   "name": "python3"
  },
  "language_info": {
   "codemirror_mode": {
    "name": "ipython",
    "version": 3
   },
   "file_extension": ".py",
   "mimetype": "text/x-python",
   "name": "python",
   "nbconvert_exporter": "python",
   "pygments_lexer": "ipython3",
   "version": "3.9.16"
  }
 },
 "nbformat": 4,
 "nbformat_minor": 5
}
